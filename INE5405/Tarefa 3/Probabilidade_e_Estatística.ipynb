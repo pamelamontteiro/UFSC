{
  "nbformat": 4,
  "nbformat_minor": 0,
  "metadata": {
    "colab": {
      "provenance": []
    },
    "kernelspec": {
      "name": "python3",
      "display_name": "Python 3"
    },
    "language_info": {
      "name": "python"
    }
  },
  "cells": [
    {
      "cell_type": "markdown",
      "source": [
        "Carrega a base de dados no Pandas DataFrame"
      ],
      "metadata": {
        "id": "9lnxP8ar1cyT"
      }
    },
    {
      "cell_type": "code",
      "execution_count": null,
      "metadata": {
        "id": "uSVJvEy6zpBX",
        "colab": {
          "base_uri": "https://localhost:8080/"
        },
        "outputId": "720e339d-dd4d-4a29-8b43-d2f28091a165"
      },
      "outputs": [
        {
          "output_type": "stream",
          "name": "stdout",
          "text": [
            "Requirement already satisfied: seaborn in /usr/local/lib/python3.10/dist-packages (0.13.1)\n",
            "Requirement already satisfied: numpy!=1.24.0,>=1.20 in /usr/local/lib/python3.10/dist-packages (from seaborn) (1.25.2)\n",
            "Requirement already satisfied: pandas>=1.2 in /usr/local/lib/python3.10/dist-packages (from seaborn) (2.0.3)\n",
            "Requirement already satisfied: matplotlib!=3.6.1,>=3.4 in /usr/local/lib/python3.10/dist-packages (from seaborn) (3.7.1)\n",
            "Requirement already satisfied: contourpy>=1.0.1 in /usr/local/lib/python3.10/dist-packages (from matplotlib!=3.6.1,>=3.4->seaborn) (1.2.1)\n",
            "Requirement already satisfied: cycler>=0.10 in /usr/local/lib/python3.10/dist-packages (from matplotlib!=3.6.1,>=3.4->seaborn) (0.12.1)\n",
            "Requirement already satisfied: fonttools>=4.22.0 in /usr/local/lib/python3.10/dist-packages (from matplotlib!=3.6.1,>=3.4->seaborn) (4.50.0)\n",
            "Requirement already satisfied: kiwisolver>=1.0.1 in /usr/local/lib/python3.10/dist-packages (from matplotlib!=3.6.1,>=3.4->seaborn) (1.4.5)\n",
            "Requirement already satisfied: packaging>=20.0 in /usr/local/lib/python3.10/dist-packages (from matplotlib!=3.6.1,>=3.4->seaborn) (24.0)\n",
            "Requirement already satisfied: pillow>=6.2.0 in /usr/local/lib/python3.10/dist-packages (from matplotlib!=3.6.1,>=3.4->seaborn) (9.4.0)\n",
            "Requirement already satisfied: pyparsing>=2.3.1 in /usr/local/lib/python3.10/dist-packages (from matplotlib!=3.6.1,>=3.4->seaborn) (3.1.2)\n",
            "Requirement already satisfied: python-dateutil>=2.7 in /usr/local/lib/python3.10/dist-packages (from matplotlib!=3.6.1,>=3.4->seaborn) (2.8.2)\n",
            "Requirement already satisfied: pytz>=2020.1 in /usr/local/lib/python3.10/dist-packages (from pandas>=1.2->seaborn) (2023.4)\n",
            "Requirement already satisfied: tzdata>=2022.1 in /usr/local/lib/python3.10/dist-packages (from pandas>=1.2->seaborn) (2024.1)\n",
            "Requirement already satisfied: six>=1.5 in /usr/local/lib/python3.10/dist-packages (from python-dateutil>=2.7->matplotlib!=3.6.1,>=3.4->seaborn) (1.16.0)\n"
          ]
        }
      ],
      "source": [
        "import pandas as pd\n",
        "dados_df = pd.read_excel(\"dados.xlsx\")"
      ]
    },
    {
      "cell_type": "markdown",
      "source": [
        "Filtra os dados para a seguinte situação:\n",
        "Para o segmento de mercado 1 e Canal 3, analisar a situação entre duas marcas concorrentes, no caso GUARANA ANTARCTICA e COCA COLA."
      ],
      "metadata": {
        "id": "kB8WAiv91l_6"
      }
    },
    {
      "cell_type": "code",
      "source": [
        "# Filtrar por segmento e canal\n",
        "dados_df = dados_df[(dados_df['Seg'] == 1) & (dados_df['Canal'] == 3)]\n",
        "# Filtrar por marcas\n",
        "dados_df = dados_df[(dados_df['Marca'] == 'GUARANA ANTARCTICA') | (dados_df['Marca'] == 'COCA COLA')]\n",
        "dados_df = dados_df.sort_values(by=['Marca'])"
      ],
      "metadata": {
        "id": "h0nORrsf1XKf"
      },
      "execution_count": null,
      "outputs": []
    },
    {
      "cell_type": "code",
      "source": [
        "# COCA COLA\n",
        "marcas = [\"COCA COLA\", \"GUARANA ANTARCTICA\"]\n",
        "for marca in marcas:\n",
        "  print(f\"{marca} - Média: {dados_df[dados_df['Marca'] == marca]['R10 - PET  2L'].mean()}\")\n",
        "  print(f\"{marca} - Mediana: {dados_df[dados_df['Marca'] == marca]['R10 - PET  2L'].median()}\")\n",
        "  print(f\"{marca} - Moda: {dados_df[dados_df['Marca'] == marca]['R10 - PET  2L'].mode()}\")\n",
        "  print(f\"{marca} - Var: {dados_df[dados_df['Marca'] == marca]['R10 - PET  2L'].var()}\")\n",
        "  print(f\"{marca} - DV: {dados_df[dados_df['Marca'] == marca]['R10 - PET  2L'].std()}\")\n",
        "  cv = dados_df[dados_df['Marca'] == marca][' '].std() / dados_df[dados_df['Marca'] == marca]['R10 - PET  2L'].mean()\n",
        "  print(f\"{marca} - CV: {cv}\")\n",
        "  print(f\"{marca} - Distorção: {dados_df[dados_df['Marca'] == marca]['R10 - PET  2L'].skew()}\")"
      ],
      "metadata": {
        "colab": {
          "base_uri": "https://localhost:8080/"
        },
        "id": "Tvvdp36hVLzo",
        "outputId": "8e9d0b84-7b2d-4cc7-a653-faeff2e547de"
      },
      "execution_count": null,
      "outputs": [
        {
          "output_type": "stream",
          "name": "stdout",
          "text": [
            "COCA COLA - Média: 8.773090569561159\n",
            "COCA COLA - Mediana: 9.0\n",
            "COCA COLA - Moda: 0    9.0\n",
            "Name: R10 - PET  2L, dtype: float64\n",
            "COCA COLA - Var: 1.404357358436155\n",
            "COCA COLA - DV: 1.1850558461254705\n",
            "COCA COLA - CV: 0.1350784922062817\n",
            "COCA COLA - Distorção: 0.6430683981627093\n",
            "GUARANA ANTARCTICA - Média: 7.485154639175258\n",
            "GUARANA ANTARCTICA - Mediana: 7.49\n",
            "GUARANA ANTARCTICA - Moda: 0    8.0\n",
            "Name: R10 - PET  2L, dtype: float64\n",
            "GUARANA ANTARCTICA - Var: 1.225616902920962\n",
            "GUARANA ANTARCTICA - DV: 1.1070758343135134\n",
            "GUARANA ANTARCTICA - CV: 0.1479028674330094\n",
            "GUARANA ANTARCTICA - Distorção: 0.10811238265013624\n"
          ]
        }
      ]
    },
    {
      "cell_type": "markdown",
      "source": [
        "Boxplot das marcas"
      ],
      "metadata": {
        "id": "rEpfBl_IVIu_"
      }
    },
    {
      "cell_type": "code",
      "source": [
        "import seaborn as sns\n",
        "sns.boxplot(data=dados_df, x=\"Marca\", y=\"R10 - PET  2L\")"
      ],
      "metadata": {
        "colab": {
          "base_uri": "https://localhost:8080/",
          "height": 466
        },
        "id": "DcNHAHTlUCN_",
        "outputId": "c871c430-51e5-4aa5-91bb-9f13e17292ce"
      },
      "execution_count": null,
      "outputs": [
        {
          "output_type": "execute_result",
          "data": {
            "text/plain": [
              "<Axes: xlabel='Marca', ylabel='R10 - PET  2L'>"
            ]
          },
          "metadata": {},
          "execution_count": 3
        },
        {
          "output_type": "display_data",
          "data": {
            "text/plain": [
              "<Figure size 640x480 with 1 Axes>"
            ],
            "image/png": "[encoded data removed]"
          },
          "metadata": {}
        }
      ]
    },
    {
      "cell_type": "code",
      "source": [
        "sns.histplot(data=dados_df, x=\"R10 - PET  2L\", hue=\"Marca\", kde=True)"
      ],
      "metadata": {
        "colab": {
          "base_uri": "https://localhost:8080/",
          "height": 466
        },
        "id": "SA0AvD9Sig73",
        "outputId": "893a8393-0b56-436e-bba5-552550aafc58"
      },
      "execution_count": null,
      "outputs": [
        {
          "output_type": "execute_result",
          "data": {
            "text/plain": [
              "<Axes: xlabel='R10 - PET  2L', ylabel='Count'>"
            ]
          },
          "metadata": {},
          "execution_count": 11
        },
        {
          "output_type": "display_data",
          "data": {
            "text/plain": [
              "<Figure size 640x480 with 1 Axes>"
            ],
            "image/png": "[encoded data removed]"
          },
          "metadata": {}
        }
      ]
    },
    {
      "cell_type": "code",
      "source": [
        "marcas = ['COCA COLA', 'GUARANA ANTARCTICA']\n",
        "for marca in marcas:\n",
        "  min_value = dados_df[dados_df['Marca'] == marca]['R10 - PET  2L'].min()\n",
        "  print(marca)\n",
        "  print(dados_df[dados_df['R10 - PET  2L'] == min_value]['Cidade'])"
      ],
      "metadata": {
        "colab": {
          "base_uri": "https://localhost:8080/"
        },
        "id": "yy5otNOmlDRt",
        "outputId": "5d4dd986-7d56-43b1-f77c-08ef7939211b"
      },
      "execution_count": null,
      "outputs": [
        {
          "output_type": "stream",
          "name": "stdout",
          "text": [
            "COCA COLA\n",
            "2935       santa maria\n",
            "28581    sao sebastiao\n",
            "940         planaltina\n",
            "174          asa norte\n",
            "Name: Cidade, dtype: object\n",
            "GUARANA ANTARCTICA\n",
            "2656    samambaia\n",
            "Name: Cidade, dtype: object\n"
          ]
        }
      ]
    },
    {
      "cell_type": "markdown",
      "source": [
        "Exportar dados para .csv"
      ],
      "metadata": {
        "id": "fnVK2-cl3D3u"
      }
    },
    {
      "cell_type": "code",
      "source": [
        "dados_df.to_csv('dados_filtrados.csv')"
      ],
      "metadata": {
        "id": "kPS0yLK823j5"
      },
      "execution_count": null,
      "outputs": []
    },
    {
      "cell_type": "code",
      "source": [
        "print(dados_df[dados_df['Marca'] == 'COCA COLA'].max()['R10 - PET  2L'])\n",
        "print(dados_df[dados_df['Marca'] == 'GUARANA ANTARCTICA'].max()['R10 - PET  2L'])\n",
        "\n",
        "print(dados_df[dados_df['Marca'] == 'COCA COLA'].min()['R10 - PET  2L'])\n",
        "print(dados_df[dados_df['Marca'] == 'GUARANA ANTARCTICA'].min()['R10 - PET  2L'])"
      ],
      "metadata": {
        "id": "bbgUH0VC3IWY",
        "colab": {
          "base_uri": "https://localhost:8080/"
        },
        "outputId": "68dcabb1-5aa5-4af9-bb0e-b57883485aaf"
      },
      "execution_count": null,
      "outputs": [
        {
          "output_type": "stream",
          "name": "stdout",
          "text": [
            "12.0\n",
            "10.0\n",
            "6.79\n",
            "4.59\n"
          ]
        }
      ]
    },
    {
      "cell_type": "code",
      "source": [
        "coca_cola_df = dados_df[dados_df['Marca'] == 'COCA COLA']\n",
        "print(len(coca_cola_df[(coca_cola_df['R10 - PET  2L'] >= 6.79) & ((coca_cola_df['R10 - PET  2L'] <= 7.28))]))\n",
        "print(len(coca_cola_df[(coca_cola_df['R10 - PET  2L'] >= 7.29) & ((coca_cola_df['R10 - PET  2L'] <= 7.78))]))\n",
        "print(len(coca_cola_df[(coca_cola_df['R10 - PET  2L'] >= 7.79) & ((coca_cola_df['R10 - PET  2L'] <= 8.28))]))\n",
        "print(len(coca_cola_df[(coca_cola_df['R10 - PET  2L'] >= 8.29) & ((coca_cola_df['R10 - PET  2L'] <= 8.78))]))\n",
        "print(len(coca_cola_df[(coca_cola_df['R10 - PET  2L'] >= 8.79) & ((coca_cola_df['R10 - PET  2L'] <= 9.28))]))\n",
        "print(len(coca_cola_df[(coca_cola_df['R10 - PET  2L'] >= 9.29) & ((coca_cola_df['R10 - PET  2L'] <= 9.78))]))\n",
        "print(len(coca_cola_df[(coca_cola_df['R10 - PET  2L'] >= 9.79) & ((coca_cola_df['R10 - PET  2L'] <= 10.28))]))\n",
        "print(len(coca_cola_df[(coca_cola_df['R10 - PET  2L'] >= 10.29) & ((coca_cola_df['R10 - PET  2L'] <= 10.78))]))\n",
        "print(len(coca_cola_df[(coca_cola_df['R10 - PET  2L'] >= 10.79) & ((coca_cola_df['R10 - PET  2L'] <= 11.28))]))\n",
        "print(len(coca_cola_df[(coca_cola_df['R10 - PET  2L'] >= 11.29) & ((coca_cola_df['R10 - PET  2L'] <= 11.78))]))\n",
        "print(len(coca_cola_df[(coca_cola_df['R10 - PET  2L'] >= 11.79) & ((coca_cola_df['R10 - PET  2L'] <= 12.29))]))"
      ],
      "metadata": {
        "colab": {
          "base_uri": "https://localhost:8080/"
        },
        "id": "s41nB3EWATCM",
        "outputId": "11e136f5-9134-4808-a59c-1c7c27a090ec"
      },
      "execution_count": null,
      "outputs": [
        {
          "output_type": "stream",
          "name": "stdout",
          "text": [
            "3\n",
            "31\n",
            "17\n",
            "4\n",
            "28\n",
            "5\n",
            "24\n",
            "0\n",
            "3\n",
            "0\n",
            "4\n"
          ]
        }
      ]
    },
    {
      "cell_type": "code",
      "source": [
        "guarana_df = dados_df[dados_df['Marca'] == 'GUARANA ANTARCTICA']\n",
        "# print(guarana_df.isna().sum())\n",
        "print(len(guarana_df[(guarana_df['R10 - PET  2L'] >= 4.59) & ((guarana_df['R10 - PET  2L'] <= 5.13))]))\n",
        "print(len(guarana_df[(guarana_df['R10 - PET  2L'] >= 5.14) & ((guarana_df['R10 - PET  2L'] <= 5.68))]))\n",
        "print(len(guarana_df[(guarana_df['R10 - PET  2L'] >= 5.69) & ((guarana_df['R10 - PET  2L'] <= 6.23))]))\n",
        "print(len(guarana_df[(guarana_df['R10 - PET  2L'] >= 6.24) & ((guarana_df['R10 - PET  2L'] <= 6.78))]))\n",
        "print(len(guarana_df[(guarana_df['R10 - PET  2L'] >= 6.79) & ((guarana_df['R10 - PET  2L'] <= 7.33))]))\n",
        "print(len(guarana_df[(guarana_df['R10 - PET  2L'] >= 7.34) & ((guarana_df['R10 - PET  2L'] <= 7.88))]))\n",
        "print(len(guarana_df[(guarana_df['R10 - PET  2L'] >= 7.89) & ((guarana_df['R10 - PET  2L'] <= 8.43))]))\n",
        "print(len(guarana_df[(guarana_df['R10 - PET  2L'] >= 8.44) & ((guarana_df['R10 - PET  2L'] <= 8.98))]))\n",
        "print(len(guarana_df[(guarana_df['R10 - PET  2L'] >= 8.99) & ((guarana_df['R10 - PET  2L'] <= 9.53))]))\n",
        "print(len(guarana_df[(guarana_df['R10 - PET  2L'] >= 9.54) & ((guarana_df['R10 - PET  2L'] <= 10.09))]))"
      ],
      "metadata": {
        "colab": {
          "base_uri": "https://localhost:8080/"
        },
        "id": "bylAwmFeEyGA",
        "outputId": "e878b13c-ad75-4f2f-b5ee-c418314fcee9"
      },
      "execution_count": null,
      "outputs": [
        {
          "output_type": "stream",
          "name": "stdout",
          "text": [
            "1\n",
            "4\n",
            "10\n",
            "3\n",
            "23\n",
            "18\n",
            "20\n",
            "7\n",
            "6\n",
            "5\n"
          ]
        }
      ]
    },
    {
      "cell_type": "code",
      "source": [
        "import pandas as pd\n",
        "dados_df = pd.read_excel(\"dados.xlsx\")\n",
        "# Filtrar por segmento e canal\n",
        "dados_df = dados_df[((dados_df['Seg'] == 1) & (dados_df['Canal'] == 3)) | ((dados_df['Seg'] == 2) & (dados_df['Canal'] == 4))]\n",
        "# Filtrar por marcas\n",
        "dados_df = dados_df[(dados_df['Marca'] == 'FANTA UVA')]\n",
        "dados_df = dados_df.sort_values(by=['Marca'])\n",
        "dados_df = dados_df.sort_values(by=['Seg'])\n",
        "dados_df.to_csv('dados_filtrados.csv')"
      ],
      "metadata": {
        "id": "-wlAeGpPQDB1"
      },
      "execution_count": null,
      "outputs": []
    },
    {
      "cell_type": "code",
      "source": [
        "import pandas as pd\n",
        "\n",
        "data = {\"regiao\": [\"N\", \"NE\", \"CO\", \"SE\", \"S\"], \"valor\": [6.45, 6.22, 5.89, 5.75, 5.85]}\n",
        "\n",
        "dados_df = pd.DataFrame(data)\n",
        "\n",
        "print(f\"Média: {dados_df['valor'].mean()}\")\n",
        "print(f\"Mediana: {dados_df['valor'].median()}\")\n",
        "print(f\"Moda: {dados_df['valor'].mode()}\")\n",
        "print(f\"Var: {dados_df['valor'].var()}\")\n",
        "print(f\"DV: {dados_df['valor'].std()}\")\n",
        "cv = dados_df['valor'].std() / dados_df['valor'].mean()\n",
        "print(f\"CV: {cv}\")\n",
        "print(f\"Distorção: {dados_df['valor'].skew()}\")"
      ],
      "metadata": {
        "id": "GH2BMJyV2RZp",
        "colab": {
          "base_uri": "https://localhost:8080/"
        },
        "outputId": "99c70b9e-cf92-4399-aa45-ee222e898d7a"
      },
      "execution_count": null,
      "outputs": [
        {
          "output_type": "stream",
          "name": "stdout",
          "text": [
            "Média: 6.031999999999999\n",
            "Mediana: 5.89\n",
            "Moda: 0    5.75\n",
            "1    5.85\n",
            "2    5.89\n",
            "3    6.22\n",
            "4    6.45\n",
            "Name: valor, dtype: float64\n",
            "Var: 0.08572000000000007\n",
            "DV: 0.292779780722645\n",
            "CV: 0.048537762056141416\n",
            "Distorção: 0.8029100496554101\n"
          ]
        }
      ]
    },
    {
      "cell_type": "code",
      "source": [
        "import pandas as pd\n",
        "\n",
        "data = {\n",
        "    \"regiao\": [\"N\", \"N\", \"N\", \"N\", \"N\", \"N\", \"N\", \"N\", \"NE\", \"NE\", \"NE\", \"NE\", \"NE\", \"NE\", \"NE\", \"NE\", \"CO\", \"CO\", \"CO\", \"CO\", \"SE\", \"SE\", \"SE\", \"SE\", \"S\", \"S\", \"S\"],\n",
        "    \"valor\": [6.45, 6.3,6.29,5.48,5.62,5.18,5.95,5.75,5.75,5.82,5.92,5.59,5.68,5.58,5.78,5.8,5.75,5.64,5.63,5.38,5.75,5.49,5.62,5.51,5.75,5.89,5.78]\n",
        "}\n",
        "\n",
        "dados_df = pd.DataFrame(data)\n",
        "\n",
        "print(f\"Média: {dados_df['valor'].mean()}\")\n",
        "print(f\"Mediana: {dados_df['valor'].median()}\")\n",
        "print(f\"Moda: {dados_df['valor'].mode()}\")\n",
        "print(f\"Var: {dados_df['valor'].var()}\")\n",
        "print(f\"DV: {dados_df['valor'].std()}\")\n",
        "cv = dados_df['valor'].std() / dados_df['valor'].mean()\n",
        "print(f\"CV: {cv}\")\n",
        "print(f\"Distorção: {dados_df['valor'].skew()}\")"
      ],
      "metadata": {
        "colab": {
          "base_uri": "https://localhost:8080/"
        },
        "id": "3aDTTVsTJeH8",
        "outputId": "5e9c99d2-c757-48cb-91d5-bc9455af9e5b"
      },
      "execution_count": null,
      "outputs": [
        {
          "output_type": "stream",
          "name": "stdout",
          "text": [
            "Média: 5.745555555555556\n",
            "Mediana: 5.75\n",
            "Moda: 0    5.75\n",
            "Name: valor, dtype: float64\n",
            "Var: 0.07541794871794873\n",
            "DV: 0.274623285097875\n",
            "CV: 0.04779751626147505\n",
            "Distorção: 0.8131217235630285\n"
          ]
        }
      ]
    },
    {
      "cell_type": "code",
      "source": [
        "import io\n",
        "import pandas as pd\n",
        "pd.read_csv(io.StringIO('''\n",
        "REGIAO NORTE,\"6,45\"\n",
        ",\"6,3\"\n",
        ",\"6,29\"\n",
        ",\"5,48\"\n",
        ",\"5,62\"\n",
        ",\"5,18\"\n",
        ",\"5,95\"\n",
        ",\"5,75\"\n",
        "NORDESTE,\"5,75\"\n",
        ",\"5,82\"\n",
        ",\"5,92\"\n",
        ",\"5,59\"\n",
        ",\"5,68\"\n",
        ",\"5,58\"\n",
        ",\"5,78\"\n",
        ",\"5,8\"\n",
        "CENTRO - OESTE,\"5,75\"\n",
        ",\"5,64\"\n",
        ",\"5,63\"\n",
        ",\"5,38\"\n",
        "SUDESTE,\"5,75\"\n",
        ",\"5,49\"\n",
        ",\"5,62\"\n",
        ",\"5,51\"\n",
        "SUL,\"5,75\"\n",
        ",\"5,89\"\n",
        ",\"5,78\"\n",
        "'''), header=None)\n"
      ],
      "metadata": {
        "colab": {
          "base_uri": "https://localhost:8080/",
          "height": 896
        },
        "id": "VV8hh473Ktso",
        "outputId": "9a759e5e-272a-4a79-b6ec-81ae6886518e"
      },
      "execution_count": null,
      "outputs": [
        {
          "output_type": "execute_result",
          "data": {
            "text/plain": [
              "                 0     1\n",
              "0     REGIAO NORTE  6,45\n",
              "1              NaN   6,3\n",
              "2              NaN  6,29\n",
              "3              NaN  5,48\n",
              "4              NaN  5,62\n",
              "5              NaN  5,18\n",
              "6              NaN  5,95\n",
              "7              NaN  5,75\n",
              "8         NORDESTE  5,75\n",
              "9              NaN  5,82\n",
              "10             NaN  5,92\n",
              "11             NaN  5,59\n",
              "12             NaN  5,68\n",
              "13             NaN  5,58\n",
              "14             NaN  5,78\n",
              "15             NaN   5,8\n",
              "16  CENTRO - OESTE  5,75\n",
              "17             NaN  5,64\n",
              "18             NaN  5,63\n",
              "19             NaN  5,38\n",
              "20         SUDESTE  5,75\n",
              "21             NaN  5,49\n",
              "22             NaN  5,62\n",
              "23             NaN  5,51\n",
              "24             SUL  5,75\n",
              "25             NaN  5,89\n",
              "26             NaN  5,78"
            ],
            "text/html": [
              "\n",
              "  <div id=\"df-aeec484f-6c10-47a0-a1c5-9b4fd54fc8c1\" class=\"colab-df-container\">\n",
              "    <div>\n",
              "<style scoped>\n",
              "    .dataframe tbody tr th:only-of-type {\n",
              "        vertical-align: middle;\n",
              "    }\n",
              "\n",
              "    .dataframe tbody tr th {\n",
              "        vertical-align: top;\n",
              "    }\n",
              "\n",
              "    .dataframe thead th {\n",
              "        text-align: right;\n",
              "    }\n",
              "</style>\n",
              "<table border=\"1\" class=\"dataframe\">\n",
              "  <thead>\n",
              "    <tr style=\"text-align: right;\">\n",
              "      <th></th>\n",
              "      <th>0</th>\n",
              "      <th>1</th>\n",
              "    </tr>\n",
              "  </thead>\n",
              "  <tbody>\n",
              "    <tr>\n",
              "      <th>0</th>\n",
              "      <td>REGIAO NORTE</td>\n",
              "      <td>6,45</td>\n",
              "    </tr>\n",
              "    <tr>\n",
              "      <th>1</th>\n",
              "      <td>NaN</td>\n",
              "      <td>6,3</td>\n",
              "    </tr>\n",
              "    <tr>\n",
              "      <th>2</th>\n",
              "      <td>NaN</td>\n",
              "      <td>6,29</td>\n",
              "    </tr>\n",
              "    <tr>\n",
              "      <th>3</th>\n",
              "      <td>NaN</td>\n",
              "      <td>5,48</td>\n",
              "    </tr>\n",
              "    <tr>\n",
              "      <th>4</th>\n",
              "      <td>NaN</td>\n",
              "      <td>5,62</td>\n",
              "    </tr>\n",
              "    <tr>\n",
              "      <th>5</th>\n",
              "      <td>NaN</td>\n",
              "      <td>5,18</td>\n",
              "    </tr>\n",
              "    <tr>\n",
              "      <th>6</th>\n",
              "      <td>NaN</td>\n",
              "      <td>5,95</td>\n",
              "    </tr>\n",
              "    <tr>\n",
              "      <th>7</th>\n",
              "      <td>NaN</td>\n",
              "      <td>5,75</td>\n",
              "    </tr>\n",
              "    <tr>\n",
              "      <th>8</th>\n",
              "      <td>NORDESTE</td>\n",
              "      <td>5,75</td>\n",
              "    </tr>\n",
              "    <tr>\n",
              "      <th>9</th>\n",
              "      <td>NaN</td>\n",
              "      <td>5,82</td>\n",
              "    </tr>\n",
              "    <tr>\n",
              "      <th>10</th>\n",
              "      <td>NaN</td>\n",
              "      <td>5,92</td>\n",
              "    </tr>\n",
              "    <tr>\n",
              "      <th>11</th>\n",
              "      <td>NaN</td>\n",
              "      <td>5,59</td>\n",
              "    </tr>\n",
              "    <tr>\n",
              "      <th>12</th>\n",
              "      <td>NaN</td>\n",
              "      <td>5,68</td>\n",
              "    </tr>\n",
              "    <tr>\n",
              "      <th>13</th>\n",
              "      <td>NaN</td>\n",
              "      <td>5,58</td>\n",
              "    </tr>\n",
              "    <tr>\n",
              "      <th>14</th>\n",
              "      <td>NaN</td>\n",
              "      <td>5,78</td>\n",
              "    </tr>\n",
              "    <tr>\n",
              "      <th>15</th>\n",
              "      <td>NaN</td>\n",
              "      <td>5,8</td>\n",
              "    </tr>\n",
              "    <tr>\n",
              "      <th>16</th>\n",
              "      <td>CENTRO - OESTE</td>\n",
              "      <td>5,75</td>\n",
              "    </tr>\n",
              "    <tr>\n",
              "      <th>17</th>\n",
              "      <td>NaN</td>\n",
              "      <td>5,64</td>\n",
              "    </tr>\n",
              "    <tr>\n",
              "      <th>18</th>\n",
              "      <td>NaN</td>\n",
              "      <td>5,63</td>\n",
              "    </tr>\n",
              "    <tr>\n",
              "      <th>19</th>\n",
              "      <td>NaN</td>\n",
              "      <td>5,38</td>\n",
              "    </tr>\n",
              "    <tr>\n",
              "      <th>20</th>\n",
              "      <td>SUDESTE</td>\n",
              "      <td>5,75</td>\n",
              "    </tr>\n",
              "    <tr>\n",
              "      <th>21</th>\n",
              "      <td>NaN</td>\n",
              "      <td>5,49</td>\n",
              "    </tr>\n",
              "    <tr>\n",
              "      <th>22</th>\n",
              "      <td>NaN</td>\n",
              "      <td>5,62</td>\n",
              "    </tr>\n",
              "    <tr>\n",
              "      <th>23</th>\n",
              "      <td>NaN</td>\n",
              "      <td>5,51</td>\n",
              "    </tr>\n",
              "    <tr>\n",
              "      <th>24</th>\n",
              "      <td>SUL</td>\n",
              "      <td>5,75</td>\n",
              "    </tr>\n",
              "    <tr>\n",
              "      <th>25</th>\n",
              "      <td>NaN</td>\n",
              "      <td>5,89</td>\n",
              "    </tr>\n",
              "    <tr>\n",
              "      <th>26</th>\n",
              "      <td>NaN</td>\n",
              "      <td>5,78</td>\n",
              "    </tr>\n",
              "  </tbody>\n",
              "</table>\n",
              "</div>\n",
              "    <div class=\"colab-df-buttons\">\n",
              "\n",
              "  <div class=\"colab-df-container\">\n",
              "    <button class=\"colab-df-convert\" onclick=\"convertToInteractive('df-aeec484f-6c10-47a0-a1c5-9b4fd54fc8c1')\"\n",
              "            title=\"Convert this dataframe to an interactive table.\"\n",
              "            style=\"display:none;\">\n",
              "\n",
              "  <svg xmlns=\"http://www.w3.org/2000/svg\" height=\"24px\" viewBox=\"0 -960 960 960\">\n",
              "    <path d=\"M120-120v-720h720v720H120Zm60-500h600v-160H180v160Zm220 220h160v-160H400v160Zm0 220h160v-160H400v160ZM180-400h160v-160H180v160Zm440 0h160v-160H620v160ZM180-180h160v-160H180v160Zm440 0h160v-160H620v160Z\"/>\n",
              "  </svg>\n",
              "    </button>\n",
              "\n",
              "  <style>\n",
              "    .colab-df-container {\n",
              "      display:flex;\n",
              "      gap: 12px;\n",
              "    }\n",
              "\n",
              "    .colab-df-convert {\n",
              "      background-color: #E8F0FE;\n",
              "      border: none;\n",
              "      border-radius: 50%;\n",
              "      cursor: pointer;\n",
              "      display: none;\n",
              "      fill: #1967D2;\n",
              "      height: 32px;\n",
              "      padding: 0 0 0 0;\n",
              "      width: 32px;\n",
              "    }\n",
              "\n",
              "    .colab-df-convert:hover {\n",
              "      background-color: #E2EBFA;\n",
              "      box-shadow: 0px 1px 2px rgba(60, 64, 67, 0.3), 0px 1px 3px 1px rgba(60, 64, 67, 0.15);\n",
              "      fill: #174EA6;\n",
              "    }\n",
              "\n",
              "    .colab-df-buttons div {\n",
              "      margin-bottom: 4px;\n",
              "    }\n",
              "\n",
              "    [theme=dark] .colab-df-convert {\n",
              "      background-color: #3B4455;\n",
              "      fill: #D2E3FC;\n",
              "    }\n",
              "\n",
              "    [theme=dark] .colab-df-convert:hover {\n",
              "      background-color: #434B5C;\n",
              "      box-shadow: 0px 1px 3px 1px rgba(0, 0, 0, 0.15);\n",
              "      filter: drop-shadow(0px 1px 2px rgba(0, 0, 0, 0.3));\n",
              "      fill: #FFFFFF;\n",
              "    }\n",
              "  </style>\n",
              "\n",
              "    <script>\n",
              "      const buttonEl =\n",
              "        document.querySelector('#df-aeec484f-6c10-47a0-a1c5-9b4fd54fc8c1 button.colab-df-convert');\n",
              "      buttonEl.style.display =\n",
              "        google.colab.kernel.accessAllowed ? 'block' : 'none';\n",
              "\n",
              "      async function convertToInteractive(key) {\n",
              "        const element = document.querySelector('#df-aeec484f-6c10-47a0-a1c5-9b4fd54fc8c1');\n",
              "        const dataTable =\n",
              "          await google.colab.kernel.invokeFunction('convertToInteractive',\n",
              "                                                    [key], {});\n",
              "        if (!dataTable) return;\n",
              "\n",
              "        const docLinkHtml = 'Like what you see? Visit the ' +\n",
              "          '<a target=\"_blank\" href=https://colab.research.google.com/notebooks/data_table.ipynb>data table notebook</a>'\n",
              "          + ' to learn more about interactive tables.';\n",
              "        element.innerHTML = '';\n",
              "        dataTable['output_type'] = 'display_data';\n",
              "        await google.colab.output.renderOutput(dataTable, element);\n",
              "        const docLink = document.createElement('div');\n",
              "        docLink.innerHTML = docLinkHtml;\n",
              "        element.appendChild(docLink);\n",
              "      }\n",
              "    </script>\n",
              "  </div>\n",
              "\n",
              "\n",
              "<div id=\"df-ba9046e6-798c-4b2f-9847-9d6f8abf4fca\">\n",
              "  <button class=\"colab-df-quickchart\" onclick=\"quickchart('df-ba9046e6-798c-4b2f-9847-9d6f8abf4fca')\"\n",
              "            title=\"Suggest charts\"\n",
              "            style=\"display:none;\">\n",
              "\n",
              "<svg xmlns=\"http://www.w3.org/2000/svg\" height=\"24px\"viewBox=\"0 0 24 24\"\n",
              "     width=\"24px\">\n",
              "    <g>\n",
              "        <path d=\"M19 3H5c-1.1 0-2 .9-2 2v14c0 1.1.9 2 2 2h14c1.1 0 2-.9 2-2V5c0-1.1-.9-2-2-2zM9 17H7v-7h2v7zm4 0h-2V7h2v10zm4 0h-2v-4h2v4z\"/>\n",
              "    </g>\n",
              "</svg>\n",
              "  </button>\n",
              "\n",
              "<style>\n",
              "  .colab-df-quickchart {\n",
              "      --bg-color: #E8F0FE;\n",
              "      --fill-color: #1967D2;\n",
              "      --hover-bg-color: #E2EBFA;\n",
              "      --hover-fill-color: #174EA6;\n",
              "      --disabled-fill-color: #AAA;\n",
              "      --disabled-bg-color: #DDD;\n",
              "  }\n",
              "\n",
              "  [theme=dark] .colab-df-quickchart {\n",
              "      --bg-color: #3B4455;\n",
              "      --fill-color: #D2E3FC;\n",
              "      --hover-bg-color: #434B5C;\n",
              "      --hover-fill-color: #FFFFFF;\n",
              "      --disabled-bg-color: #3B4455;\n",
              "      --disabled-fill-color: #666;\n",
              "  }\n",
              "\n",
              "  .colab-df-quickchart {\n",
              "    background-color: var(--bg-color);\n",
              "    border: none;\n",
              "    border-radius: 50%;\n",
              "    cursor: pointer;\n",
              "    display: none;\n",
              "    fill: var(--fill-color);\n",
              "    height: 32px;\n",
              "    padding: 0;\n",
              "    width: 32px;\n",
              "  }\n",
              "\n",
              "  .colab-df-quickchart:hover {\n",
              "    background-color: var(--hover-bg-color);\n",
              "    box-shadow: 0 1px 2px rgba(60, 64, 67, 0.3), 0 1px 3px 1px rgba(60, 64, 67, 0.15);\n",
              "    fill: var(--button-hover-fill-color);\n",
              "  }\n",
              "\n",
              "  .colab-df-quickchart-complete:disabled,\n",
              "  .colab-df-quickchart-complete:disabled:hover {\n",
              "    background-color: var(--disabled-bg-color);\n",
              "    fill: var(--disabled-fill-color);\n",
              "    box-shadow: none;\n",
              "  }\n",
              "\n",
              "  .colab-df-spinner {\n",
              "    border: 2px solid var(--fill-color);\n",
              "    border-color: transparent;\n",
              "    border-bottom-color: var(--fill-color);\n",
              "    animation:\n",
              "      spin 1s steps(1) infinite;\n",
              "  }\n",
              "\n",
              "  @keyframes spin {\n",
              "    0% {\n",
              "      border-color: transparent;\n",
              "      border-bottom-color: var(--fill-color);\n",
              "      border-left-color: var(--fill-color);\n",
              "    }\n",
              "    20% {\n",
              "      border-color: transparent;\n",
              "      border-left-color: var(--fill-color);\n",
              "      border-top-color: var(--fill-color);\n",
              "    }\n",
              "    30% {\n",
              "      border-color: transparent;\n",
              "      border-left-color: var(--fill-color);\n",
              "      border-top-color: var(--fill-color);\n",
              "      border-right-color: var(--fill-color);\n",
              "    }\n",
              "    40% {\n",
              "      border-color: transparent;\n",
              "      border-right-color: var(--fill-color);\n",
              "      border-top-color: var(--fill-color);\n",
              "    }\n",
              "    60% {\n",
              "      border-color: transparent;\n",
              "      border-right-color: var(--fill-color);\n",
              "    }\n",
              "    80% {\n",
              "      border-color: transparent;\n",
              "      border-right-color: var(--fill-color);\n",
              "      border-bottom-color: var(--fill-color);\n",
              "    }\n",
              "    90% {\n",
              "      border-color: transparent;\n",
              "      border-bottom-color: var(--fill-color);\n",
              "    }\n",
              "  }\n",
              "</style>\n",
              "\n",
              "  <script>\n",
              "    async function quickchart(key) {\n",
              "      const quickchartButtonEl =\n",
              "        document.querySelector('#' + key + ' button');\n",
              "      quickchartButtonEl.disabled = true;  // To prevent multiple clicks.\n",
              "      quickchartButtonEl.classList.add('colab-df-spinner');\n",
              "      try {\n",
              "        const charts = await google.colab.kernel.invokeFunction(\n",
              "            'suggestCharts', [key], {});\n",
              "      } catch (error) {\n",
              "        console.error('Error during call to suggestCharts:', error);\n",
              "      }\n",
              "      quickchartButtonEl.classList.remove('colab-df-spinner');\n",
              "      quickchartButtonEl.classList.add('colab-df-quickchart-complete');\n",
              "    }\n",
              "    (() => {\n",
              "      let quickchartButtonEl =\n",
              "        document.querySelector('#df-ba9046e6-798c-4b2f-9847-9d6f8abf4fca button');\n",
              "      quickchartButtonEl.style.display =\n",
              "        google.colab.kernel.accessAllowed ? 'block' : 'none';\n",
              "    })();\n",
              "  </script>\n",
              "</div>\n",
              "\n",
              "  <div id=\"id_02bc5fce-ef56-4aea-8984-9bdf35d47ff5\">\n",
              "    <style>\n",
              "      .colab-df-generate {\n",
              "        background-color: #E8F0FE;\n",
              "        border: none;\n",
              "        border-radius: 50%;\n",
              "        cursor: pointer;\n",
              "        display: none;\n",
              "        fill: #1967D2;\n",
              "        height: 32px;\n",
              "        padding: 0 0 0 0;\n",
              "        width: 32px;\n",
              "      }\n",
              "\n",
              "      .colab-df-generate:hover {\n",
              "        background-color: #E2EBFA;\n",
              "        box-shadow: 0px 1px 2px rgba(60, 64, 67, 0.3), 0px 1px 3px 1px rgba(60, 64, 67, 0.15);\n",
              "        fill: #174EA6;\n",
              "      }\n",
              "\n",
              "      [theme=dark] .colab-df-generate {\n",
              "        background-color: #3B4455;\n",
              "        fill: #D2E3FC;\n",
              "      }\n",
              "\n",
              "      [theme=dark] .colab-df-generate:hover {\n",
              "        background-color: #434B5C;\n",
              "        box-shadow: 0px 1px 3px 1px rgba(0, 0, 0, 0.15);\n",
              "        filter: drop-shadow(0px 1px 2px rgba(0, 0, 0, 0.3));\n",
              "        fill: #FFFFFF;\n",
              "      }\n",
              "    </style>\n",
              "    <button class=\"colab-df-generate\" onclick=\"generateWithVariable('dados_df')\"\n",
              "            title=\"Generate code using this dataframe.\"\n",
              "            style=\"display:none;\">\n",
              "\n",
              "  <svg xmlns=\"http://www.w3.org/2000/svg\" height=\"24px\"viewBox=\"0 0 24 24\"\n",
              "       width=\"24px\">\n",
              "    <path d=\"M7,19H8.4L18.45,9,17,7.55,7,17.6ZM5,21V16.75L18.45,3.32a2,2,0,0,1,2.83,0l1.4,1.43a1.91,1.91,0,0,1,.58,1.4,1.91,1.91,0,0,1-.58,1.4L9.25,21ZM18.45,9,17,7.55Zm-12,3A5.31,5.31,0,0,0,4.9,8.1,5.31,5.31,0,0,0,1,6.5,5.31,5.31,0,0,0,4.9,4.9,5.31,5.31,0,0,0,6.5,1,5.31,5.31,0,0,0,8.1,4.9,5.31,5.31,0,0,0,12,6.5,5.46,5.46,0,0,0,6.5,12Z\"/>\n",
              "  </svg>\n",
              "    </button>\n",
              "    <script>\n",
              "      (() => {\n",
              "      const buttonEl =\n",
              "        document.querySelector('#id_02bc5fce-ef56-4aea-8984-9bdf35d47ff5 button.colab-df-generate');\n",
              "      buttonEl.style.display =\n",
              "        google.colab.kernel.accessAllowed ? 'block' : 'none';\n",
              "\n",
              "      buttonEl.onclick = () => {\n",
              "        google.colab.notebook.generateWithVariable('dados_df');\n",
              "      }\n",
              "      })();\n",
              "    </script>\n",
              "  </div>\n",
              "\n",
              "    </div>\n",
              "  </div>\n"
            ],
            "application/vnd.google.colaboratory.intrinsic+json": {
              "type": "dataframe",
              "variable_name": "dados_df",
              "summary": "{\n  \"name\": \"dados_df\",\n  \"rows\": 27,\n  \"fields\": [\n    {\n      \"column\": 0,\n      \"properties\": {\n        \"dtype\": \"category\",\n        \"num_unique_values\": 5,\n        \"samples\": [\n          \"NORDESTE\",\n          \"SUL\",\n          \"CENTRO - OESTE\"\n        ],\n        \"semantic_type\": \"\",\n        \"description\": \"\"\n      }\n    },\n    {\n      \"column\": 1,\n      \"properties\": {\n        \"dtype\": \"string\",\n        \"num_unique_values\": 21,\n        \"samples\": [\n          \"6,45\",\n          \"5,38\",\n          \"5,64\"\n        ],\n        \"semantic_type\": \"\",\n        \"description\": \"\"\n      }\n    }\n  ]\n}"
            }
          },
          "metadata": {},
          "execution_count": 3
        }
      ]
    },
    {
      "cell_type": "code",
      "source": [
        "\n",
        "print(len(dados_df[(dados_df['valor'] >= 5.18) & ((dados_df['valor'] <= 5.42))]))\n",
        "print(len(dados_df[(dados_df['valor'] >= 5.43) & ((dados_df['valor'] <= 5.67))]))\n",
        "print(len(dados_df[(dados_df['valor'] >= 5.68) & ((dados_df['valor'] <= 5.92))]))\n",
        "print(len(coca_cola_df[(coca_cola_df['R10 - PET  2L'] >= 8.29) & ((coca_cola_df['R10 - PET  2L'] <= 8.78))]))\n",
        "print(len(coca_cola_df[(coca_cola_df['R10 - PET  2L'] >= 8.79) & ((coca_cola_df['R10 - PET  2L'] <= 9.28))]))\n",
        "print(len(coca_cola_df[(coca_cola_df['R10 - PET  2L'] >= 9.29) & ((coca_cola_df['R10 - PET  2L'] <= 9.78))]))\n",
        "print(len(coca_cola_df[(coca_cola_df['R10 - PET  2L'] >= 9.79) & ((coca_cola_df['R10 - PET  2L'] <= 10.28))]))\n",
        "print(len(coca_cola_df[(coca_cola_df['R10 - PET  2L'] >= 10.29) & ((coca_cola_df['R10 - PET  2L'] <= 10.78))]))\n",
        "print(len(coca_cola_df[(coca_cola_df['R10 - PET  2L'] >= 10.79) & ((coca_cola_df['R10 - PET  2L'] <= 11.28))]))\n",
        "print(len(coca_cola_df[(coca_cola_df['R10 - PET  2L'] >= 11.29) & ((coca_cola_df['R10 - PET  2L'] <= 11.78))]))\n",
        "print(len(coca_cola_df[(coca_cola_df['R10 - PET  2L'] >= 11.79) & ((coca_cola_df['R10 - PET  2L'] <= 12.29))]))"
      ],
      "metadata": {
        "id": "-sJTzXtgKyzg"
      },
      "execution_count": null,
      "outputs": []
    },
    {
      "cell_type": "code",
      "source": [
        "# !pip install odfpy\n",
        "import pandas as pd\n",
        "import seaborn as sns\n",
        "dados_df = pd.read_excel(\"dados.ods\", engine=\"odf\")\n",
        "dados_df\n",
        "\n",
        "# sns.histplot(data=dados_df, x=\"R20 – LATA 310ML\", hue=\"Seg\", kde=True)\n",
        "sns.boxplot(data=dados_df, x=\"Seg\", y=\"R20 – LATA 310ML\")"
      ],
      "metadata": {
        "colab": {
          "base_uri": "https://localhost:8080/",
          "height": 467
        },
        "id": "_LgrJz9gDwTR",
        "outputId": "e0265f59-2610-4f21-f141-914af2852705"
      },
      "execution_count": null,
      "outputs": [
        {
          "output_type": "execute_result",
          "data": {
            "text/plain": [
              "<Axes: xlabel='Seg', ylabel='R20 – LATA 310ML'>"
            ]
          },
          "metadata": {},
          "execution_count": 7
        },
        {
          "output_type": "display_data",
          "data": {
            "text/plain": [
              "<Figure size 640x480 with 1 Axes>"
            ],
            "image/png": "[encoded data removed]"
          },
          "metadata": {}
        }
      ]
    },
    {
      "cell_type": "code",
      "source": [],
      "metadata": {
        "id": "paKuwpcTD3v5"
      },
      "execution_count": null,
      "outputs": []
    }
  ]
}