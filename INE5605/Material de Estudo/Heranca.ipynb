{
 "cells": [
  {
   "cell_type": "markdown",
   "metadata": {},
   "source": [
    "# Herança\n",
    "\n",
    "- Mecanismo que permite a reutilização daquilo que já foi implementado\n",
    "- Define um relacionamento entre classes, onde verifica-se aquilo que é comum entre determinadas classes\n",
    "- Uma classe compartilha a estrutura e/ou comportamento de uma ou mais classes\n",
    "- É um relacionamento de especialização/ generalização (“é um” ou “tipo de”)\n",
    "\n",
    "### Vamos ver um exemplo prático:\n",
    "\n",
    "<img src=\"img/heranca.jpg\" width=\"400\" height=\"600\" alt=\"Imagem mostrando exemplo de herança\" title=\"Exemplo de Herança\" />\n",
    "\n",
    "</br>\n",
    "\n",
    "> Nesse exemplo, as classes **Cliente** e **Vendedor** herdam de **Pessoa**. Ou seja, **Pessoa é uma Generalização e **Cliente**, **Vendedor** são especializações. Isso implica em dizer que: **Cliente e **Vendedor** herdam atributos e métodos de **Pessoa**.\n",
    "\n"
   ]
  },
  {
   "cell_type": "markdown",
   "metadata": {},
   "source": [
    "### Vamos implementar a classe **Pessoa**\n",
    "\n",
    "Note que o atributo está com o símbolo: **\"-\"** no nome, o que indica que ele é privado, portanto deve iniciar com **\"__\"**. \n",
    "\n",
    "#### São criados dois métodos especiais para cada atributo:\n",
    " - *@property* que permite recuperar o dado do atributo\n",
    " - *@NOME_DO_ATRIBUTO.setter* que permite alterar o dado do atributo\n",
    " \n",
    "Como exemplo, incluímos um teste para verificar o tipo de dado que está sendo enviado utilizando <code> isinstance </code>\n",
    "\n"
   ]
  },
  {
   "cell_type": "code",
   "execution_count": 9,
   "metadata": {},
   "outputs": [],
   "source": [
    "class Pessoa:\n",
    "\n",
    "  def __init__(self, cpf: int, nome: str):\n",
    "    if isinstance(cpf, int):\n",
    "      self.__cpf = cpf\n",
    "    if isinstance(nome, str):\n",
    "      self.__nome = nome\n",
    "\n",
    "  @property\n",
    "  def cpf(self):\n",
    "    return self.__cpf\n",
    "  \n",
    "  @cpf.setter\n",
    "  def cpf(self,cpf: int):\n",
    "    if isinstance(cpf, int):\n",
    "      self.__cpf = cpf\n",
    "  \n",
    "  @property\n",
    "  def nome(self):\n",
    "    return self.__nome\n",
    "  \n",
    "  @nome.setter\n",
    "  def nome(self,nome: str):\n",
    "    if isinstance(nome, str):\n",
    "      self.__nome = nome\n",
    "    "
   ]
  },
  {
   "cell_type": "markdown",
   "metadata": {},
   "source": [
    "### Agora a classe **Cliente**\n",
    "A classe **Cliente** herda de **Pessoa**, por isso o nome da classe vai entre parêntesis. \n",
    "\n",
    "### Construtor\n",
    "O construtor da classe é o método <code>def __init__</code> que recebe como parâmetros <code>self, endereco: str, cpf: int, nome: str</code>:\n",
    " - <code>self</code> representa o próprio objeto que está sendo instanciado. É nesse objeto que são criados os atributos\n",
    " - <code>endereco</code> é um atributo da própria classe **Cliente**, por isso é armazenado em um atributo da própria classe: <code>self.__endereco = endereco</code>\n",
    " - <code>cpf</code> e <code>nome</code> são atributos da classe **Pessoa** e por isso são repassados para a classe **Pessoa**, invocando-se o construtor da *superclasse*: <code>super().\\_\\_init\\_\\_(cpf, nome)</code>\n",
    "\n"
   ]
  },
  {
   "cell_type": "code",
   "execution_count": 10,
   "metadata": {},
   "outputs": [],
   "source": [
    "class Cliente(Pessoa):\n",
    "  \n",
    "  def __init__(self, endereco: str, cpf: int, nome: str):\n",
    "    super().__init__(cpf, nome)\n",
    "    if isinstance(endereco, str):\n",
    "      self.__endereco = endereco\n",
    "  \n",
    "  @property\n",
    "  def endereco(self):\n",
    "    return self.__endereco\n",
    "  \n",
    "  @endereco.setter\n",
    "  def endereco(self,endereco: str):\n",
    "    if isinstance(endereco, str):\n",
    "      self.__endereco = endereco"
   ]
  },
  {
   "cell_type": "markdown",
   "metadata": {},
   "source": [
    "### Por fim a classe **Vendedor**\n",
    "A classe **Vendedor** também herda de **Pessoa**, por isso o nome da classe vai entre parêntesis. "
   ]
  },
  {
   "cell_type": "code",
   "execution_count": 11,
   "metadata": {},
   "outputs": [],
   "source": [
    "class Vendedor(Pessoa):\n",
    "  \n",
    "  def __init__(self, comissao: int, cpf: int, nome: str):\n",
    "    super().__init__(cpf, nome)\n",
    "    if isinstance(comissao, int):\n",
    "      self.__comissao = comissao\n",
    "  \n",
    "  @property\n",
    "  def comissao(self):\n",
    "    return self.__comissao\n",
    "  \n",
    "  @comissao.setter\n",
    "  def comissao(self,comissao: int):\n",
    "    if isinstance(comissao, int):\n",
    "      self.__comissao = comissao"
   ]
  },
  {
   "cell_type": "markdown",
   "metadata": {},
   "source": [
    "### Agora vamos brincar um pouco com os conceitos\n",
    "Primeiro vamos instanciar objetos das três classes:"
   ]
  },
  {
   "cell_type": "code",
   "execution_count": 12,
   "metadata": {},
   "outputs": [
    {
     "name": "stdout",
     "output_type": "stream",
     "text": [
      "Pessoa: 123 Jean\n",
      "Cliente: 234 Pedro Rua Geral, sem nº\n",
      "Vendedor: 456 João 50\n"
     ]
    }
   ],
   "source": [
    "# Instanciando:\n",
    "\n",
    "uma_pessoa = Pessoa(123, \"Jean\")\n",
    "um_cliente = Cliente(\"Rua Geral, sem nº\", 234, \"Pedro\")\n",
    "um_vendedor = Vendedor(50, 456, \"João\")\n",
    "\n",
    "# Imprimindo os valores dos atributos\n",
    "print(\"Pessoa:\", uma_pessoa.cpf, uma_pessoa.nome)\n",
    "print(\"Cliente:\", um_cliente.cpf, um_cliente.nome, um_cliente.endereco)\n",
    "print(\"Vendedor:\", um_vendedor.cpf, um_vendedor.nome, um_vendedor.comissao)\n",
    "\n"
   ]
  },
  {
   "cell_type": "markdown",
   "metadata": {},
   "source": [
    "É interessante notar que os objetos <code>um_cliente</code> e <code>um_vendedor</code> têm os atributos cpf e nome, que herdaram de **Pessoa**\n",
    "\n",
    "### Entendendo o Encapsulamento\n",
    "\n",
    "Mas, o que acontece se tentarmos acessar um atributo diretamente?\n"
   ]
  },
  {
   "cell_type": "code",
   "execution_count": 13,
   "metadata": {},
   "outputs": [
    {
     "ename": "AttributeError",
     "evalue": "'Pessoa' object has no attribute '__cpf'",
     "output_type": "error",
     "traceback": [
      "\u001b[0;31m---------------------------------------------------------------------------\u001b[0m",
      "\u001b[0;31mAttributeError\u001b[0m                            Traceback (most recent call last)",
      "\u001b[0;32m<ipython-input-13-a26a13e38548>\u001b[0m in \u001b[0;36m<module>\u001b[0;34m\u001b[0m\n\u001b[0;32m----> 1\u001b[0;31m \u001b[0mprint\u001b[0m\u001b[0;34m(\u001b[0m\u001b[0;34m\"Pessoa:\"\u001b[0m\u001b[0;34m,\u001b[0m \u001b[0muma_pessoa\u001b[0m\u001b[0;34m.\u001b[0m\u001b[0m__cpf\u001b[0m\u001b[0;34m)\u001b[0m\u001b[0;34m\u001b[0m\u001b[0;34m\u001b[0m\u001b[0m\n\u001b[0m",
      "\u001b[0;31mAttributeError\u001b[0m: 'Pessoa' object has no attribute '__cpf'"
     ]
    }
   ],
   "source": [
    "print(\"Pessoa:\", uma_pessoa.__cpf)"
   ]
  },
  {
   "cell_type": "markdown",
   "metadata": {},
   "source": [
    "Ocorre um erro informando que o objeto da classe **Pessoa** não possui o atributo <code>__cpf</code>. \n",
    "O atributo <code>__cpf</code> está ***encapsulado***, ou seja, está oculto na classe **Pessoa**, para evitar manipulaçoes incorretas.\n",
    "\n",
    "O atributo `cpf` deve sempre ser acessado por meio dos métodos `@property` e `@setter`.\n",
    "\n",
    "Vamos fazer um teste para ver o que exatamente acontece quando executamos <code>uma_pessoa.cpf</code>?\n",
    "\n",
    "Vamos reescrever a classe **Pessoa** para incluir um <code>print</code> no método *@property* para ver o que acontece:"
   ]
  },
  {
   "cell_type": "code",
   "execution_count": 20,
   "metadata": {},
   "outputs": [],
   "source": [
    "class Pessoa:\n",
    "\n",
    "  def __init__(self, cpf: int, nome: str):\n",
    "    if isinstance(cpf, int):\n",
    "      self.__cpf = cpf\n",
    "    if isinstance(nome, str):\n",
    "      self.__nome = nome\n",
    "\n",
    "  @property\n",
    "  def cpf(self):\n",
    "    print(\">> Executando o método property Pessoa.cpf\")\n",
    "    return self.__cpf\n",
    "  \n",
    "  @cpf.setter\n",
    "  def cpf(self,cpf: int):\n",
    "    print(\">> Executando o método setter Pessoa.cpf\")\n",
    "    if isinstance(cpf, int):\n",
    "      print(\">> Valor válido para o setter Pessoa.cpf\")\n",
    "      self.__cpf = cpf\n",
    "    else:\n",
    "        print(\">> Valor INVALIDO para o setter Pessoa.cpf:\", cpf)\n",
    "        \n",
    "  @property\n",
    "  def nome(self):\n",
    "    return self.__nome\n",
    "  \n",
    "  @nome.setter\n",
    "  def nome(self,nome: str):\n",
    "    if isinstance(nome, str):\n",
    "      self.__nome = nome\n"
   ]
  },
  {
   "cell_type": "markdown",
   "metadata": {},
   "source": [
    "Agora vamos testar:"
   ]
  },
  {
   "cell_type": "code",
   "execution_count": 22,
   "metadata": {},
   "outputs": [
    {
     "name": "stdout",
     "output_type": "stream",
     "text": [
      "Instanciando Pessoa\n",
      "Tentando alterar o CPF\n",
      ">> Executando o método setter Pessoa.cpf\n",
      ">> Valor INVALIDO para o setter Pessoa.cpf: ABC\n",
      ">> Executando o método property Pessoa.cpf\n",
      "Pessoa:  321\n"
     ]
    }
   ],
   "source": [
    "print(\"Instanciando Pessoa\")\n",
    "outra_pessoa = Pessoa(321, \"Outra Pessoa\")\n",
    "\n",
    "print(\"Tentando alterar o CPF\")\n",
    "outra_pessoa.cpf = \"ABC\"\n",
    "\n",
    "print(\"Pessoa: \", outra_pessoa.cpf)\n"
   ]
  },
  {
   "cell_type": "markdown",
   "metadata": {},
   "source": [
    "Olha que interessante, `outra_pessoa.cpf = \"ABC\"` parece uma atribuição direta, mas não é!\n",
    "\n",
    "Na prática, nesse momento o código do método **setter** é invocado, permitindo realizar o teste do tipo, evitando a atribuição de um valor inválido:\n",
    "```Python\n",
    "   @cpf.setter<br>\n",
    "   def cpf(self,cpf: int):\n",
    "```\n"
   ]
  },
  {
   "cell_type": "markdown",
   "metadata": {},
   "source": [
    "### Entendendo o construtor\n",
    "\n",
    "Vamos agora entender melhor como funciona o construtor! Esse método especial em Python que é executado quando instanciamos um objeto de uma classe.\n",
    "\n",
    "Para isso, vamos reescrever novamente só os construtores das classes **Pessoa** e **Cliente** incluindo algumas mensagens para ententer melhor o que está acontecendo:\n",
    "\n",
    "\n"
   ]
  },
  {
   "cell_type": "code",
   "execution_count": 24,
   "metadata": {},
   "outputs": [],
   "source": [
    "class Pessoa:\n",
    "\n",
    "  def __init__(self, cpf: int, nome: str):\n",
    "    print(\">> Executando o método construtor da classe Pessoa\")\n",
    "    if isinstance(cpf, int):\n",
    "      self.__cpf = cpf\n",
    "    if isinstance(nome, str):\n",
    "      self.__nome = nome\n",
    "    \n",
    "    \n",
    "class Cliente(Pessoa):\n",
    "  \n",
    "  def __init__(self, endereco: str, cpf: int, nome: str):\n",
    "    print(\">> Executando o método construtor da classe Cliente\")\n",
    "    super().__init__(cpf, nome)\n",
    "    if isinstance(endereco, str):\n",
    "      self.__endereco = endereco"
   ]
  },
  {
   "cell_type": "markdown",
   "metadata": {},
   "source": [
    "\n",
    "Vamos agora brincar um pouco com esse código:\n"
   ]
  },
  {
   "cell_type": "code",
   "execution_count": 26,
   "metadata": {},
   "outputs": [
    {
     "name": "stdout",
     "output_type": "stream",
     "text": [
      "Instanciando uma Pessoa:\n",
      ">> Executando o método construtor da classe Pessoa\n",
      "Instanciando um Cliente:\n",
      ">> Executando o método construtor da classe Cliente\n",
      ">> Executando o método construtor da classe Pessoa\n"
     ]
    }
   ],
   "source": [
    "print(\"Instanciando uma Pessoa:\")\n",
    "pessoa = Pessoa(654, \"Antonio\")\n",
    "\n",
    "print(\"Instanciando um Cliente:\")\n",
    "cliente = Cliente(\"Endereco\", 987, \"Ricardo\")\n"
   ]
  },
  {
   "cell_type": "markdown",
   "metadata": {},
   "source": [
    "O que aconeceu aqui?\n",
    "\n",
    "Ao instanciar uma **Pessoa** o método construtor da classe foi executado.\n",
    "\n",
    "Já ao instanciar um objeto da classe **Cliente**, foi iniciada a execução do método construtor da classe \n",
    "e logo é invocado o método `super().__init__(cpf, nome)` que vai chamar o construtor da classe-pai, a *superclasse*\n",
    "que, no caso é **Pessoa**. \n",
    "\n",
    "Assim, é possível perceber, que ambos construtores são executados para instanciar um objeto da classe **Ciente**.\n",
    "\n"
   ]
  }
 ],
 "metadata": {
  "kernelspec": {
   "display_name": "Python 3 (ipykernel)",
   "language": "python",
   "name": "python3"
  },
  "language_info": {
   "codemirror_mode": {
    "name": "ipython",
    "version": 3
   },
   "file_extension": ".py",
   "mimetype": "text/x-python",
   "name": "python",
   "nbconvert_exporter": "python",
   "pygments_lexer": "ipython3",
   "version": "3.9.7"
  }
 },
 "nbformat": 4,
 "nbformat_minor": 2
}
