{
 "cells": [
  {
   "cell_type": "markdown",
   "metadata": {},
   "source": [
    "# Classes Abstratas\n",
    "\n",
    "- São classes que não permitem gerar novas instâncias\n",
    "- Auxiliam na reutilização daquilo que já foi implementado\n",
    "- Reduzem o acoplamento entre classes, aumentando a sua reusabilidade\n",
    "- Permitem que componentes possam ter diferentes interfaces de acordo com as necessidades dos seus usuários\n",
    "- Ajudam a esconder a complexidade da arquitetura interna de componentes\n",
    "\n",
    "### Vamos ver um exemplo prático:\n",
    "\n",
    "<img src=\"img/classes_abstratas.png\" width=\"400\" height=\"600\" alt=\"Imagem mostrando exemplo de herança\" title=\"Exemplo de Herança\" />\n",
    "\n",
    "</br>\n",
    "\n",
    "> Nesse exemplo imaginamos um sistema para controlar o cálculo do salário de funcionários. Existem dois tipos de funcionários: caixas e vendedores. Todos os funcionários possuem um salário-base, mas os vendedores possuem uma comissão e os caixas recebem um valor adicional.\n",
    "\n",
    "> Assim, são definidas três classes: **Funcionario**, que é uma classe abstrata, **Caixa** e **Vendedor**. A classe **Funcionario** é definida como abstrata, pois não faz sentido existirem instâncias de somente funcionário. Ou serão caixas ou serão vendedores.\n",
    "\n",
    "> O cálculo do salario total dos dois tipos de funcionários é diferente. Um caixa recebe um salário-base mais um valor adicional. Já os vendedores recebem o salário-base mais uma comissão sobre o total de vendas (total_vendas * comissao / 100)\n",
    "\n",
    "\n"
   ]
  },
  {
   "cell_type": "markdown",
   "metadata": {},
   "source": [
    "### Vamos começar implementando a classe **Funcionario**\n",
    "\n",
    "Lembre que como os atributos `cpf` e `salario_base` estão com o símbolo: **\"-\"** eles são privados, portanto devem iniciar com **\"__\"**. \n",
    "\n",
    "#### Seguindo o padrão, são criados dois métodos especiais para cada atributo:\n",
    " - *@property* que permite recuperar o dado do atributo\n",
    " - *@NOME_DO_ATRIBUTO.setter* que permite alterar o dado do atributo\n",
    " \n",
    "> Para tornar a classe **Funcionario** como *abstrata* nós precisamos:\n",
    "- Importar do pacote *abc* a classe *ABC* (Abstract Base Class) e também *abstractmethod*\n",
    "- Definir a classe **Funcionario** como subclasse (herdando) da classe *ABC*\n",
    "- Para garantir que não será possível criar instâncias a partir da classe **Funcionario** nós também definimos o método construtor (*`__init__`*) como um método abstrato, ou seja que não pode ser executado diretamente, utilizando para isso o <a href=\"https://pythonhelp.wordpress.com/2013/06/09/entendendo-os-decorators/\">decorator</a> *@abstractmethod*\n",
    "\n",
    "Além disso, existe também na classe um método abstrato: `salario_total()` ao qual nós também adicionaremos o <a href=\"https://pythonhelp.wordpress.com/2013/06/09/entendendo-os-decorators/\">decorator</a> *@abstractmethod*. Como esse é um método realmente abstrato, siginifica que ele ainda não precisa ter uma implementação própria. \n",
    "As classes que herdarem da classe **Funcionario** precisarão implementar o seu comportamento. Isso significa que estamos **impondo** que todas as classes que herdarem de **Funcionario** devem **obrigatoriamente** implementar o método `salario_total()`. Isso cria um padrão para esta hierarquia de classes que será muito útil para o polimorfismo, que veremos logo a seguir.\n",
    "\n",
    "Vamos ver como fica o código da classe:\n",
    "\n",
    "\n",
    "\n"
   ]
  },
  {
   "cell_type": "code",
   "execution_count": 1,
   "metadata": {},
   "outputs": [],
   "source": [
    "from abc import ABC, abstractmethod\n",
    "\n",
    "class Funcionario(ABC):\n",
    "  \n",
    "  @abstractmethod  \n",
    "  def __init__(self, cpf: str, salario_base: float):\n",
    "    if isinstance(cpf, str):\n",
    "      self.__cpf = cpf\n",
    "    if isinstance(salario_base, float):\n",
    "      self.__salario_base = salario_base\n",
    "\n",
    "  @property\n",
    "  def cpf(self):\n",
    "    return self.__cpf\n",
    "  \n",
    "  @cpf.setter\n",
    "  def cpf(self, cpf: str):\n",
    "    if isinstance(cpf, str):\n",
    "      self.__cpf = cpf\n",
    "\n",
    "  @property\n",
    "  def salario_base(self):\n",
    "    return self.__salario_base\n",
    "\n",
    "  @salario_base.setter\n",
    "  def salario_base(self, salario_base: float):\n",
    "    if isinstance(salario_base, float):\n",
    "      self.__salario_base = salario_base\n",
    "\n",
    "  @abstractmethod   \n",
    "  def salario_total(self) -> float:\n",
    "    pass\n"
   ]
  },
  {
   "cell_type": "markdown",
   "metadata": {},
   "source": [
    "### O que acontece se tentarmos instanciar um novo funcionário?\n"
   ]
  },
  {
   "cell_type": "code",
   "execution_count": 2,
   "metadata": {},
   "outputs": [
    {
     "ename": "TypeError",
     "evalue": "Can't instantiate abstract class Funcionario with abstract methods __init__, salario_total",
     "output_type": "error",
     "traceback": [
      "\u001b[0;31m---------------------------------------------------------------------------\u001b[0m",
      "\u001b[0;31mTypeError\u001b[0m                                 Traceback (most recent call last)",
      "Cell \u001b[0;32mIn[2], line 1\u001b[0m\n\u001b[0;32m----> 1\u001b[0m funcionario \u001b[38;5;241m=\u001b[39m \u001b[43mFuncionario\u001b[49m\u001b[43m(\u001b[49m\u001b[38;5;124;43m'\u001b[39;49m\u001b[38;5;124;43m123\u001b[39;49m\u001b[38;5;124;43m'\u001b[39;49m\u001b[43m,\u001b[49m\u001b[43m \u001b[49m\u001b[38;5;241;43m1000.00\u001b[39;49m\u001b[43m)\u001b[49m\n",
      "\u001b[0;31mTypeError\u001b[0m: Can't instantiate abstract class Funcionario with abstract methods __init__, salario_total"
     ]
    }
   ],
   "source": [
    "funcionario = Funcionario('123', 1000.00)"
   ]
  },
  {
   "cell_type": "markdown",
   "metadata": {},
   "source": [
    "### Ocorre uma mensagem de erro!\n",
    "A mensagem é do tipo `TypeError`, ou seja, ocorre um problema com o \"tipo\" Funcionario.<br>\n",
    "A mensagem informa que não é possível instanciar a classe abstrata **Funcionario** com os métodos abstratos `__init__` e `salario_total`"
   ]
  },
  {
   "cell_type": "markdown",
   "metadata": {},
   "source": [
    "### Agora vamos criar a classe **Caixa**\n",
    "A classe **Caixa** herda de **Funcionario**, por isso o nome da classe-pai vai entre parêntesis `(Funcionario)`.\n",
    "\n",
    "Devemos implementar todos os atributos e métodos conforme foram definidos no diagrama de classes.\n"
   ]
  },
  {
   "cell_type": "code",
   "execution_count": 3,
   "metadata": {},
   "outputs": [],
   "source": [
    "class Caixa(Funcionario):\n",
    "  \n",
    "  def __init__(self, cpf: str, salario_base: float, acicional: float):\n",
    "    super().__init__(cpf, salario_base)\n",
    "    if isinstance(adicional, float):\n",
    "      self.__adicional = adicional\n",
    "  \n",
    "  @property\n",
    "  def adicional(self):\n",
    "    return self.__adicional\n",
    "  \n",
    "  @adicional.setter\n",
    "  def adicional(self, adicional: float):\n",
    "    if isinstance(adicional, float):\n",
    "      self.__adicional = adicional"
   ]
  },
  {
   "cell_type": "markdown",
   "metadata": {},
   "source": [
    "### O que acontece se tentarmos instanciar um novo Caixa?\n"
   ]
  },
  {
   "cell_type": "code",
   "execution_count": 4,
   "metadata": {},
   "outputs": [
    {
     "ename": "TypeError",
     "evalue": "Can't instantiate abstract class Caixa with abstract method salario_total",
     "output_type": "error",
     "traceback": [
      "\u001b[0;31m---------------------------------------------------------------------------\u001b[0m",
      "\u001b[0;31mTypeError\u001b[0m                                 Traceback (most recent call last)",
      "Cell \u001b[0;32mIn[4], line 1\u001b[0m\n\u001b[0;32m----> 1\u001b[0m caixa \u001b[38;5;241m=\u001b[39m \u001b[43mCaixa\u001b[49m\u001b[43m(\u001b[49m\u001b[38;5;124;43m'\u001b[39;49m\u001b[38;5;124;43m456\u001b[39;49m\u001b[38;5;124;43m'\u001b[39;49m\u001b[43m,\u001b[49m\u001b[43m \u001b[49m\u001b[38;5;241;43m1000.00\u001b[39;49m\u001b[43m,\u001b[49m\u001b[43m \u001b[49m\u001b[38;5;241;43m250.00\u001b[39;49m\u001b[43m)\u001b[49m\n",
      "\u001b[0;31mTypeError\u001b[0m: Can't instantiate abstract class Caixa with abstract method salario_total"
     ]
    }
   ],
   "source": [
    "caixa = Caixa('456', 1000.00, 250.00)"
   ]
  },
  {
   "cell_type": "markdown",
   "metadata": {},
   "source": [
    "### Também ocorre uma mensagem de erro!\n",
    "\n",
    "**Por que?**\n",
    "\n",
    "Ocorre um erro porque não implementamos o método `salario_total()` que era abstrato na classe-pai **Funcionario**.<br>\n",
    "Aqui aparece um importante conceito:\n",
    "\n",
    "> Um método abstrato definido na classe-pai deve **obrigatoriamente** ser implementado pela classe-filha\n",
    "\n",
    "O código da classe **Caixa** precisa então implementar também o método `salario_total()` somando o valor adicional ao salário-base definido na classe **Funcionario**\n",
    "\n",
    "O método `salario_total()` calcula o salário, somando o valor adicional recebido ao salário-base.\n",
    "\n"
   ]
  },
  {
   "cell_type": "code",
   "execution_count": 5,
   "metadata": {},
   "outputs": [],
   "source": [
    "class Caixa(Funcionario):\n",
    "  \n",
    "  def __init__(self, cpf: str, salario_base: float, adicional: float):\n",
    "    super().__init__(cpf, salario_base)\n",
    "    if isinstance(adicional, float):\n",
    "      self.__adicional = adicional\n",
    "  \n",
    "  @property\n",
    "  def adicional(self):\n",
    "    return self.__adicional\n",
    "  \n",
    "  @adicional.setter\n",
    "  def adicional(self, adicional: float):\n",
    "    if isinstance(adicional, float):\n",
    "      self.__adicional = adicional\n",
    "\n",
    "  def salario_total(self):\n",
    "    return self.salario_base + self.__adicional"
   ]
  },
  {
   "cell_type": "markdown",
   "metadata": {},
   "source": [
    "### Agora sim podemos instanciar e até calcular o salário total:"
   ]
  },
  {
   "cell_type": "code",
   "execution_count": 6,
   "metadata": {},
   "outputs": [
    {
     "name": "stdout",
     "output_type": "stream",
     "text": [
      "Salario do Caixa do supermercado: 1250.0\n"
     ]
    }
   ],
   "source": [
    "caixa = Caixa('456', 1000.00, 250.00)\n",
    "\n",
    "print('Salario do Caixa do supermercado:', caixa.salario_total())\n"
   ]
  },
  {
   "cell_type": "markdown",
   "metadata": {},
   "source": [
    "### Por fim, implementando a classe **Vendedor**\n",
    "A classe **Vendedor** também herda de **Funcionario**, por isso o nome da classe vai entre parêntesis.<br>\n",
    "Nessa classe também é necessário implementar o método `salario_total()`, que é calculado somando ao salário-base uma comissão do total das vendas (total_vendas * comissao / 100)"
   ]
  },
  {
   "cell_type": "code",
   "execution_count": 7,
   "metadata": {},
   "outputs": [],
   "source": [
    "class Vendedor(Funcionario):\n",
    "  \n",
    "  def __init__(self, cpf: str, salario_base: float, comissao: float, total_vendas: float):\n",
    "    super().__init__(cpf, salario_base)\n",
    "    if isinstance(comissao, float):\n",
    "      self.__comissao = comissao\n",
    "    if isinstance(total_vendas, float):\n",
    "      self.__total_vendas = total_vendas\n",
    "  \n",
    "  @property\n",
    "  def comissao(self):\n",
    "    return self.__comissao\n",
    "  \n",
    "  @comissao.setter\n",
    "  def comissao(self,comissao: float):\n",
    "    if isinstance(comissao, float):\n",
    "      self.__comissao = comissao\n",
    "\n",
    "  @property\n",
    "  def total_vendas(self):\n",
    "    return self.__total_vendas\n",
    "  \n",
    "  @total_vendas.setter\n",
    "  def total_vendas(self,total_vendas: float):\n",
    "    if isinstance(total_vendas, float):\n",
    "      self.__total_vendas = total_vendas    \n",
    "\n",
    "  def salario_total(self):\n",
    "    return self.salario_base + (self.__total_vendas * self.__comissao / 100)\n",
    "    "
   ]
  },
  {
   "cell_type": "code",
   "execution_count": 13,
   "metadata": {},
   "outputs": [
    {
     "name": "stdout",
     "output_type": "stream",
     "text": [
      "Salario do Vendedor: 2000.0\n"
     ]
    }
   ],
   "source": [
    "# Instanciando:\n",
    "\n",
    "vendedor = Vendedor('789', 1500.00, 5.0, 10000.00)\n",
    "\n",
    "print('Salario do Vendedor:', vendedor.salario_total())\n"
   ]
  },
  {
   "cell_type": "markdown",
   "metadata": {},
   "source": [
    "## Mas ... e o Polimorfismo?\n",
    "\n",
    "> **Polimorfismo**: objetos de duas ou mais classes derivadas de uma mesma superclasse podem invocar operações que\n",
    "têm a mesma assinatura mas comportamentos distintos\n",
    "\n",
    "Ou seja um método com mesmo nome sendo utilizado, mas apresentando comportamentos diferentes.\n",
    "\n",
    "Então, que tal criar um método genérico que calcula o salário total de todos os funcionários, independente do seu tipo?\n"
   ]
  },
  {
   "cell_type": "code",
   "execution_count": 8,
   "metadata": {},
   "outputs": [
    {
     "name": "stdout",
     "output_type": "stream",
     "text": [
      "Salario total: 1250.0 do funcionario: 456\n",
      "Salario total: 1430.0 do funcionario: 654\n",
      "Salario total: 2000.0 do funcionario: 789\n",
      "Salario total: 2000.0 do funcionario: 987\n",
      ">>> Valor total dos salarios: 6680.0\n"
     ]
    }
   ],
   "source": [
    "# Definindo um método genérico para calcular os valores totais dos salários \n",
    "\n",
    "def salarios_totais(funcionarios):\n",
    "  total = 0\n",
    "  for funcionario in funcionarios:\n",
    "    print('Salario total:', funcionario.salario_total(), 'do funcionario:', funcionario.cpf)\n",
    "    total += funcionario.salario_total()\n",
    "  print('>>> Valor total dos salarios:', total)\n",
    "\n",
    "# Instanciando uma lista com os funcionários:\n",
    "\n",
    "caixa1 = Caixa('456', 1000.0, 250.0)\n",
    "caixa2 = Caixa('654', 1200.0, 230.0)\n",
    "vendedor1 = Vendedor('789', 1500.00, 5.0, 10000.00)\n",
    "vendedor2 = Vendedor('987', 1500.00, 5.0, 10000.00)\n",
    "\n",
    "funcionarios = []\n",
    "funcionarios.append(caixa1)\n",
    "funcionarios.append(caixa2)\n",
    "funcionarios.append(vendedor1)\n",
    "funcionarios.append(vendedor2)\n",
    "\n",
    "# Calculando o salário de todos:\n",
    "\n",
    "salarios_totais(funcionarios)\n"
   ]
  },
  {
   "cell_type": "markdown",
   "metadata": {},
   "source": [
    "### E viva o Polimorfismo!\n",
    "É interessante notar que o mesmo método `salario_total()` foi executado diversas vezes, para as diferentes implementações, utilizando o princípio do **polimorfismo** \n",
    "\n",
    "Mas ... e se fosse criada uma nova classe de funcionarios: **Trainee**, cujo salário total é só metade do salário-base, pois trabalha só meio período?\n"
   ]
  },
  {
   "cell_type": "code",
   "execution_count": 9,
   "metadata": {},
   "outputs": [],
   "source": [
    "class Trainee(Funcionario):\n",
    "  \n",
    "  def __init__(self, cpf: str, salario_base: float):\n",
    "    super().__init__(cpf, salario_base)\n",
    "  \n",
    "  def salario_total(self):\n",
    "    return self.salario_base / 2\n"
   ]
  },
  {
   "cell_type": "markdown",
   "metadata": {},
   "source": [
    "### O que muda agora?\n",
    "\n",
    "Utilizando o princípio do polimorfismo, nada muda. <br>\n",
    "Podemos adicionar duas novas instâncias de trainees à lista de funcionários e rodar o método que calcula os salários novamente, **sem alterar nada!**\n"
   ]
  },
  {
   "cell_type": "code",
   "execution_count": 10,
   "metadata": {},
   "outputs": [
    {
     "name": "stdout",
     "output_type": "stream",
     "text": [
      "Salario total: 1250.0 do funcionario: 456\n",
      "Salario total: 1430.0 do funcionario: 654\n",
      "Salario total: 2000.0 do funcionario: 789\n",
      "Salario total: 2000.0 do funcionario: 987\n",
      "Salario total: 500.0 do funcionario: 888\n",
      "Salario total: 550.0 do funcionario: 777\n",
      ">>> Valor total dos salarios: 7730.0\n"
     ]
    }
   ],
   "source": [
    "# Instanciando os novos trainees\n",
    "\n",
    "trainee1 = Trainee('888', 1000.00)\n",
    "trainee2 = Trainee('777', 1100.00)\n",
    "\n",
    "# Adicionado na lista de funcionarios que ja existia\n",
    "\n",
    "funcionarios.append(trainee1)\n",
    "funcionarios.append(trainee2)\n",
    "\n",
    "# Calculando novamente o salário de todos:\n",
    "\n",
    "salarios_totais(funcionarios)"
   ]
  },
  {
   "cell_type": "markdown",
   "metadata": {},
   "source": [
    "## Mas o polimorfismo também apresenta riscos!\n",
    "O que acontece se tentarmos colocar algo que não seja um funcionário na lista?<br>\n",
    "O método que calcula o salário total irá quebrar quando chegar no objeto que não é um funcionário!"
   ]
  },
  {
   "cell_type": "code",
   "execution_count": 11,
   "metadata": {},
   "outputs": [
    {
     "name": "stdout",
     "output_type": "stream",
     "text": [
      "Salario total: 1250.0 do funcionario: 456\n",
      "Salario total: 1430.0 do funcionario: 654\n",
      "Salario total: 2000.0 do funcionario: 789\n",
      "Salario total: 2000.0 do funcionario: 987\n",
      "Salario total: 500.0 do funcionario: 888\n",
      "Salario total: 550.0 do funcionario: 777\n"
     ]
    },
    {
     "ename": "AttributeError",
     "evalue": "'str' object has no attribute 'salario_total'",
     "output_type": "error",
     "traceback": [
      "\u001b[0;31m---------------------------------------------------------------------------\u001b[0m",
      "\u001b[0;31mAttributeError\u001b[0m                            Traceback (most recent call last)",
      "Cell \u001b[0;32mIn[11], line 7\u001b[0m\n\u001b[1;32m      3\u001b[0m funcionarios\u001b[38;5;241m.\u001b[39mappend(um_objeto_qualquer)\n\u001b[1;32m      5\u001b[0m \u001b[38;5;66;03m# Calculando novamente o salário de todos:\u001b[39;00m\n\u001b[0;32m----> 7\u001b[0m \u001b[43msalarios_totais\u001b[49m\u001b[43m(\u001b[49m\u001b[43mfuncionarios\u001b[49m\u001b[43m)\u001b[49m\n",
      "Cell \u001b[0;32mIn[8], line 6\u001b[0m, in \u001b[0;36msalarios_totais\u001b[0;34m(funcionarios)\u001b[0m\n\u001b[1;32m      4\u001b[0m total \u001b[38;5;241m=\u001b[39m \u001b[38;5;241m0\u001b[39m\n\u001b[1;32m      5\u001b[0m \u001b[38;5;28;01mfor\u001b[39;00m funcionario \u001b[38;5;129;01min\u001b[39;00m funcionarios:\n\u001b[0;32m----> 6\u001b[0m   \u001b[38;5;28mprint\u001b[39m(\u001b[38;5;124m'\u001b[39m\u001b[38;5;124mSalario total:\u001b[39m\u001b[38;5;124m'\u001b[39m, \u001b[43mfuncionario\u001b[49m\u001b[38;5;241;43m.\u001b[39;49m\u001b[43msalario_total\u001b[49m(), \u001b[38;5;124m'\u001b[39m\u001b[38;5;124mdo funcionario:\u001b[39m\u001b[38;5;124m'\u001b[39m, funcionario\u001b[38;5;241m.\u001b[39mcpf)\n\u001b[1;32m      7\u001b[0m   total \u001b[38;5;241m+\u001b[39m\u001b[38;5;241m=\u001b[39m funcionario\u001b[38;5;241m.\u001b[39msalario_total()\n\u001b[1;32m      8\u001b[0m \u001b[38;5;28mprint\u001b[39m(\u001b[38;5;124m'\u001b[39m\u001b[38;5;124m>>> Valor total dos salarios:\u001b[39m\u001b[38;5;124m'\u001b[39m, total)\n",
      "\u001b[0;31mAttributeError\u001b[0m: 'str' object has no attribute 'salario_total'"
     ]
    }
   ],
   "source": [
    "um_objeto_qualquer = 'EU NÃO SOU UM FUNCIONARIO!'\n",
    "\n",
    "funcionarios.append(um_objeto_qualquer)\n",
    "\n",
    "# Calculando novamente o salário de todos:\n",
    "\n",
    "salarios_totais(funcionarios)\n"
   ]
  },
  {
   "cell_type": "markdown",
   "metadata": {},
   "source": [
    " \\* **OBSERVAÇÃO**: os códigos apresentados neste Notebook intencionalmente não seguem de forma estrita o tamanho de indentação definida na <a href=\"https://www.python.org/dev/peps/pep-0008/\">PEP8</a> para economizar espaço, facilitando a visibilidade em telas pequenas. \n",
    "\n"
   ]
  }
 ],
 "metadata": {
  "kernelspec": {
   "display_name": "Python 3 (ipykernel)",
   "language": "python",
   "name": "python3"
  },
  "language_info": {
   "codemirror_mode": {
    "name": "ipython",
    "version": 3
   },
   "file_extension": ".py",
   "mimetype": "text/x-python",
   "name": "python",
   "nbconvert_exporter": "python",
   "pygments_lexer": "ipython3",
   "version": "3.9.7"
  }
 },
 "nbformat": 4,
 "nbformat_minor": 2
}
