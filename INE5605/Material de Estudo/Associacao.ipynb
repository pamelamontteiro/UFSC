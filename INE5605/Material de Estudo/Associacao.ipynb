{
 "cells": [
  {
   "cell_type": "markdown",
   "metadata": {},
   "source": [
    "# Associação\n",
    "\n",
    "- Relação permanente entre dois objetos\n",
    "- Definida pela existência de um atributo do tipo da classe associada\n",
    "- Atributo guarda uma referência para o objeto associado\n",
    "\n",
    "### Vamos ver um exemplo prático:\n",
    "\n",
    "<img src=\"img/associacao.jpg\" width=\"400\" height=\"600\" alt=\"Imagem mostrando exemplo de associação\" title=\"Exemplo de Herança\" />\n",
    "\n",
    "</br>\n",
    "\n",
    "> Nesse exemplo, a classe **NotaFiscal** está associada à classe **Cliente** por meio do atributo *- cliente*. Em outras palavras, objetos da classe **NotaFiscal** podem possuir uma referência para um objeto da classe **Cliente**. É interessante notar que no atributo *- cliente* da classe **NotaFiscal** não fica guardado o código do cliente, mas sim uma referência para uma instância da classe cliente.\n",
    "\n"
   ]
  },
  {
   "cell_type": "markdown",
   "metadata": {},
   "source": [
    "## Vamos implementar a classe **Cliente**\n",
    "\n",
    "De acordo com o diagrama de classes acima, a classe cliente possui dois atributos: codigo e endereco. Ambos são privados, pois têm o símbolo \"-\" na frente do nome do atributo. Note que os parâmetros dos métodos têm a indicação do tipo do dado. A indicação desse tipo não torna o tipo obrigatório, mas instrui o programador que for utilizar o método do que passar como parâmetro.\n",
    "\n",
    "### Construtor e atributos\n",
    "O construtor da classe é o método <code>def __init__</code> que recebe como parâmetros <code>self, codigo: int, endereco: str</code>:\n",
    " - <code>self</code> representa o próprio objeto que está sendo instanciado. É nesse objeto que são criados os atributos. Todos os outros métodos da classe também recebem esse parâmetro, para poder manipular os valores dos atributos.\n",
    " - <code>codigo: int, endereco: str</code> são atributos simples da própria classe **Cliente**, por isso são criados dois atributos no *self*, que representa o próprio objeto: <code>self.__codigo = codigo</code> e <code>self.__endereco = endereco</code>.\n",
    "\n",
    "#### São criados dois métodos especiais para cada atributo:\n",
    " - *@property* que permite recuperar o dado do atributo\n",
    " - *@NOME_DO_ATRIBUTO.setter* que permite alterar o dado do atributo\n",
    "\n",
    "### Checagem de tipos:\n",
    "Como exemplo, incluímos um teste para verificar o tipo de dado que está sendo enviado utilizando <code> isinstance </code>.\n",
    "Da mesma forma, incluímos <code> -> int </code> e <code> -> str </code> como informação do tipo de retorno nos métodos que retornam esses tipos. Essa informação ajuda o programador que irá utilizar esses métodos no futuro.\n"
   ]
  },
  {
   "cell_type": "code",
   "execution_count": 2,
   "metadata": {},
   "outputs": [],
   "source": [
    "class Cliente:\n",
    "  \n",
    "  def __init__(self, codigo: int, endereco: str):\n",
    "    self.__codigo = None\n",
    "    self.__endereco = None\n",
    "    if isinstance(codigo, int):\n",
    "      self.__codigo = codigo\n",
    "    if isinstance(endereco, str):\n",
    "      self.__endereco = endereco\n",
    "\n",
    "  @property\n",
    "  def codigo(self) -> int:\n",
    "    return self.__codigo\n",
    "  \n",
    "  @codigo.setter\n",
    "  def codigo(self, codigo: int):\n",
    "    if isinstance(codigo, int):\n",
    "      self.__codigo = codigo\n",
    "    \n",
    "  @property\n",
    "  def endereco(self) -> str: \n",
    "    return self.__endereco\n",
    "  \n",
    "  @endereco.setter\n",
    "  def endereco(self, endereco: str):\n",
    "    if isinstance(endereco, str):\n",
    "      self.__endereco = endereco"
   ]
  },
  {
   "cell_type": "markdown",
   "metadata": {},
   "source": [
    "## Agora a classe **NotaFiscal**\n",
    "A classe **NotaFiscal** também possui dois atributos: numero e cliente. O atributo *- numero* é simples do tipo *int* e o atributo *- cliente* é do tipo **Cliente**. \n",
    "\n",
    "### Construtor e atributos\n",
    "O construtor da classe é o método <code>def __init__</code> que recebe como parâmetros <code>self, numero: int, cliente: Ciente</code>:\n",
    " - <code>self</code> representa o próprio objeto que está sendo instanciado, da mesma forma que na classe anterior. É nesse objeto que são criados os atributos. Aqui também todos os outros métodos da classe também recebem esse parâmetro, para poder manipular os valores dos atributos.\n",
    " - <code>numero: int</code> é um atributo simples da própria classe **NotaFiscal**, por isso é criado um atributo no *self* que representa o próprio objeto: <code>self.__numero = numero</code>.\n",
    " - <code>cliente: Cliente</code> é um atributo do tipo da classe **Cliente**. Dentro deste atributo será armazenado uma referênci apara um cliente que já vem instanciado como parâmetro: <code>self.__clinte = cliente</code>.\n",
    "\n",
    " \n",
    "#### Também são criados dois métodos especiais para cada atributo:\n",
    " - *@property* que permite recuperar o dado do atributo\n",
    " - *@NOME_DO_ATRIBUTO.setter* que permite alterar o dado do atributo\n",
    " \n",
    "### Checagem de tipos:\n",
    "E também incluímos um teste para verificar o tipo de dado que está sendo enviado utilizando <code> isinstance </code> para garantir, por exemplo, que no cliente venha realmente um objeto da classe **Cliente** como parâmetro, evitando assim erros posteriores.\n",
    "\n"
   ]
  },
  {
   "cell_type": "code",
   "execution_count": 3,
   "metadata": {},
   "outputs": [],
   "source": [
    "class NotaFiscal:\n",
    "\n",
    "  def __init__(self, numero: int, cliente: Cliente):\n",
    "    self.__numero = None\n",
    "    self.__cliente = None\n",
    "    if isinstance(numero, int):\n",
    "      self.__numero = numero\n",
    "    if isinstance(cliente, Cliente):\n",
    "      self.__cliente = cliente\n",
    "\n",
    "  @property\n",
    "  def numero(self) -> int:\n",
    "    return self.__numero\n",
    "  \n",
    "  @numero.setter\n",
    "  def numero(self, numero: int):\n",
    "    if isinstance(numero, int):\n",
    "      self.__numero = numero\n",
    "  \n",
    "  @property\n",
    "  def cliente(self) -> Cliente:\n",
    "    return self.__cliente\n",
    "  \n",
    "  @cliente.setter\n",
    "  def cliente(self, cliente: Cliente):\n",
    "    if isinstance(cliente, Cliente):\n",
    "      self.__cliente = cliente\n",
    "    "
   ]
  },
  {
   "cell_type": "markdown",
   "metadata": {},
   "source": [
    "### Agora vamos brincar um pouco com os conceitos\n",
    "Primeiro vamos instanciar objetos das duas classes:"
   ]
  },
  {
   "cell_type": "code",
   "execution_count": 60,
   "metadata": {},
   "outputs": [
    {
     "name": "stdout",
     "output_type": "stream",
     "text": [
      "Cliente: 123 Rua Geral, sem nº\n",
      "Cliente: 456 Avenida Importante, nº 456\n",
      "Cliente: 789 Rua Mais Importante, nº 789\n",
      "Nota Fiscal: 11\n",
      "Nota Fiscal: 22\n",
      "Nota Fiscal: 33\n"
     ]
    }
   ],
   "source": [
    "# Instanciando:\n",
    "\n",
    "um_cliente = Cliente(123, \"Rua Geral, sem nº\")\n",
    "segundo_cliente = Cliente(456, \"Avenida Importante, nº 456\")\n",
    "terceiro_cliente = Cliente(789, \"Rua Mais Importante, nº 789\")\n",
    "\n",
    "# colocando os clientes em uma lista de clientes:\n",
    "clientes = [um_cliente, segundo_cliente, terceiro_cliente]\n",
    "\n",
    "# O cliente 123 fez uma compra\n",
    "uma_nota_fiscal = NotaFiscal(11, um_cliente)\n",
    "\n",
    "# O cliente 456 fez duas compras\n",
    "outra_nota_fiscal = NotaFiscal(22, segundo_cliente)\n",
    "mais_outra_nota_fiscal = NotaFiscal(33, segundo_cliente)\n",
    "\n",
    "# colocando as notas fiscais em uma lita de notas:\n",
    "notas = [uma_nota_fiscal, outra_nota_fiscal, mais_outra_nota_fiscal]\n",
    "\n",
    "\n",
    "# Imprimindo os valores dos atributos dos clientes:\n",
    "print(\"Cliente:\", um_cliente.codigo, um_cliente.endereco)\n",
    "print(\"Cliente:\", segundo_cliente.codigo, segundo_cliente.endereco)\n",
    "print(\"Cliente:\", terceiro_cliente.codigo, terceiro_cliente.endereco)\n",
    "\n",
    "# Imprimindo os valores dos atributos das notas\n",
    "print(\"Nota Fiscal:\", uma_nota_fiscal.numero)\n",
    "print(\"Nota Fiscal:\", outra_nota_fiscal.numero)\n",
    "print(\"Nota Fiscal:\", mais_outra_nota_fiscal.numero)\n"
   ]
  },
  {
   "cell_type": "markdown",
   "metadata": {},
   "source": [
    "\n",
    "## Agora obtendo os dados dos clientes e notas que estão nas listas:\n"
   ]
  },
  {
   "cell_type": "code",
   "execution_count": 61,
   "metadata": {},
   "outputs": [
    {
     "name": "stdout",
     "output_type": "stream",
     "text": [
      "Cliente: 123 Rua Geral, sem nº\n",
      "Cliente: 456 Avenida Importante, nº 456\n",
      "Cliente: 789 Rua Mais Importante, nº 789\n",
      "Nota: 11\n",
      "Nota: 22\n",
      "Nota: 33\n"
     ]
    }
   ],
   "source": [
    "# Clientes\n",
    "\n",
    "for cliente in clientes:\n",
    "    print(\"Cliente:\", cliente.codigo, cliente.endereco)\n",
    "\n",
    "# Notas\n",
    "\n",
    "for nota in notas:\n",
    "    print(\"Nota:\", nota.numero)\n",
    "\n"
   ]
  },
  {
   "cell_type": "markdown",
   "metadata": {},
   "source": [
    "### Mas, como obter os dados dos clientes de uma determinada Nota?\n",
    "\n",
    "Deve-se acessar por meio do objeto que está associado no atributo:\n"
   ]
  },
  {
   "cell_type": "code",
   "execution_count": 68,
   "metadata": {},
   "outputs": [
    {
     "name": "stdout",
     "output_type": "stream",
     "text": [
      "Cliente da Nota: 11\n",
      "Codigo do Cliente: 123\n",
      "Endereço do Cliente: Rua Geral, sem nº\n"
     ]
    }
   ],
   "source": [
    "# Mostrando os dados de um objeto cliente de uma nota:\n",
    "\n",
    "print(\"Cliente da Nota:\", uma_nota_fiscal.numero)\n",
    "print(\"Codigo do Cliente:\", uma_nota_fiscal.cliente.codigo)\n",
    "print(\"Endereço do Cliente:\", uma_nota_fiscal.cliente.endereco)\n"
   ]
  },
  {
   "cell_type": "code",
   "execution_count": 57,
   "metadata": {},
   "outputs": [
    {
     "name": "stdin",
     "output_type": "stream",
     "text": [
      "Informe o código do cliente: 456\n"
     ]
    },
    {
     "name": "stdout",
     "output_type": "stream",
     "text": [
      "Notas do Cliente: 456\n",
      "> Nota: 22\n",
      "> Nota: 33\n"
     ]
    }
   ],
   "source": [
    "# Pegando o código do cliente e convertendo para inteiro:\n",
    "\n",
    "codigo_cliente = int(input(\"Informe o código do cliente:\"))\n",
    "\n",
    "# Percorrendo as notas e verificando qual é o cliente\n",
    "\n",
    "print(\"Notas do Cliente:\", codigo_cliente)\n",
    "for nota in notas:\n",
    "    if nota.cliente.codigo == codigo_cliente:\n",
    "        print(\"> Nota:\", nota.numero)        \n",
    "        "
   ]
  },
  {
   "cell_type": "markdown",
   "metadata": {},
   "source": [
    "## Entendendo as referências para os objetos\n",
    "\n",
    "O que acontece com as notas se alterarmos o endereço de um dos clientes.\n",
    "\n",
    "Vamos testar ... quando for requisitado, informe um novo endereço para o cliente:\n"
   ]
  },
  {
   "cell_type": "code",
   "execution_count": 64,
   "metadata": {},
   "outputs": [
    {
     "name": "stdin",
     "output_type": "stream",
     "text": [
      "Informe o novo endereço do cliente 456: NOVO ENDERECO\n"
     ]
    }
   ],
   "source": [
    "# Pegando novo endereço para o cliente 456 (objeto: segundo_cliente)\n",
    "\n",
    "novo_endereco = input(\"Informe o novo endereço do cliente 456:\")\n",
    "segundo_cliente.endereco = novo_endereco\n"
   ]
  },
  {
   "cell_type": "markdown",
   "metadata": {},
   "source": [
    "\n",
    "### O que será que acontece com o endereço dos clientes que estão na nota?\n"
   ]
  },
  {
   "cell_type": "code",
   "execution_count": 65,
   "metadata": {},
   "outputs": [
    {
     "name": "stdout",
     "output_type": "stream",
     "text": [
      "Nota número: 11\n",
      "> Cliente da Nota: 123\n",
      "> Endereço do Cliente da Nota: Rua Geral, sem nº\n",
      "Nota número: 22\n",
      "> Cliente da Nota: 456\n",
      "> Endereço do Cliente da Nota: NOVO ENDERECO\n",
      "Nota número: 33\n",
      "> Cliente da Nota: 456\n",
      "> Endereço do Cliente da Nota: NOVO ENDERECO\n"
     ]
    }
   ],
   "source": [
    "# Mostrando os endereços dos clientes das notas\n",
    "\n",
    "for nota in notas:\n",
    "    print(\"Nota número:\", nota.numero)\n",
    "    print(\"> Cliente da Nota:\", nota.cliente.codigo)\n",
    "    print(\"> Endereço do Cliente da Nota:\", nota.cliente.endereco)\n",
    "        "
   ]
  },
  {
   "cell_type": "markdown",
   "metadata": {},
   "source": [
    "## Olha que interessante!!! Os endereços dos \"clientes\" 456 que estão nas notas também mudaram!\n",
    "\n",
    "Isso ocorre porque, na verdade, os clientes não estão nas notas, mas só uma referência para o objeto que está na memória.\n",
    "\n",
    "Vamos testar isso utilizando o comando <code> id(objeto) </code> que mostra um número que equivale ao identificador do objeto na memória. Essa é realmente a IDENTIDADE do objeto.\n",
    "\n",
    "veja quais são os identificadores do objeto <code> outro_cliente </code> e os identificadores dos objetos clientes associados às notas fiscais:\n"
   ]
  },
  {
   "cell_type": "code",
   "execution_count": 67,
   "metadata": {},
   "outputs": [
    {
     "name": "stdout",
     "output_type": "stream",
     "text": [
      "Identificador do cliente 456: 139742669234976\n",
      "Notas do Cliente: 456\n",
      "Nota: 22\n",
      "> Identificador do cliente na nota: 139742669234976\n",
      "Nota: 33\n",
      "> Identificador do cliente na nota: 139742669234976\n"
     ]
    }
   ],
   "source": [
    "# Mostrando o identificados do cliente outro_cliente:\n",
    "\n",
    "print(\"Identificador do cliente 456:\", id(segundo_cliente))\n",
    "\n",
    "# Percorrendo as notas e mostrando o identificador dos clientes\n",
    "\n",
    "print(\"Notas do Cliente: 456\")\n",
    "for nota in notas:\n",
    "    if nota.cliente.codigo == 456:\n",
    "        print(\"Nota:\", nota.numero)\n",
    "        print(\"> Identificador do cliente na nota:\", id(nota.cliente))\n",
    "        "
   ]
  },
  {
   "cell_type": "markdown",
   "metadata": {},
   "source": [
    "## Note que é o mesmo identificador. Ou seja, os atributos as notas 22 e 33 associam com o mesmo objeto que está na memória!\n"
   ]
  }
 ],
 "metadata": {
  "kernelspec": {
   "display_name": "Python 3 (ipykernel)",
   "language": "python",
   "name": "python3"
  },
  "language_info": {
   "codemirror_mode": {
    "name": "ipython",
    "version": 3
   },
   "file_extension": ".py",
   "mimetype": "text/x-python",
   "name": "python",
   "nbconvert_exporter": "python",
   "pygments_lexer": "ipython3",
   "version": "3.9.7"
  }
 },
 "nbformat": 4,
 "nbformat_minor": 2
}
