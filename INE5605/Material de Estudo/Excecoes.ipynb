{
 "cells": [
  {
   "cell_type": "markdown",
   "metadata": {},
   "source": [
    "# Tratamento de Exceções\n",
    "\n",
    "Ao se desenvolver um programa orientado a objetos, exceções podem ocorrer nos mais diversos momentos e por diversos motivos: por não ter conseguido se conectar a um banco de dados, por não conseguir abrir um arquivo, tentar acessar um elemento de um array que não existe, etc.\n",
    "\n",
    "Para começarmos a entender como funciona o tratamento de exceções, dê uma olhada no código abaixo. \n",
    "É definida uma função simples para calcular uma divisão.\n",
    "\n",
    "Teste o código abaixo de duas formas:\n",
    "> Primeiro execute da forma como está. O que acontece?<br>\n",
    "> Depois altere o valor da variável `divisor` para 5, ou outro valor válido. O que acontece?"
   ]
  },
  {
   "cell_type": "code",
   "execution_count": 1,
   "metadata": {},
   "outputs": [
    {
     "name": "stdout",
     "output_type": "stream",
     "text": [
      "> Antes de chamar a função da divisão\n",
      ">>> Início Função: divide(dividendo, divisor)\n",
      ">>> Antes de realizar a divisão\n"
     ]
    },
    {
     "ename": "ZeroDivisionError",
     "evalue": "division by zero",
     "output_type": "error",
     "traceback": [
      "\u001b[0;31m---------------------------------------------------------------------------\u001b[0m",
      "\u001b[0;31mZeroDivisionError\u001b[0m                         Traceback (most recent call last)",
      "Cell \u001b[0;32mIn[1], line 12\u001b[0m\n\u001b[1;32m      9\u001b[0m divisor \u001b[38;5;241m=\u001b[39m \u001b[38;5;241m0\u001b[39m\n\u001b[1;32m     11\u001b[0m \u001b[38;5;28mprint\u001b[39m(\u001b[38;5;124m\"\u001b[39m\u001b[38;5;124m> Antes de chamar a função da divisão\u001b[39m\u001b[38;5;124m\"\u001b[39m)\n\u001b[0;32m---> 12\u001b[0m resultado \u001b[38;5;241m=\u001b[39m \u001b[43mdivide\u001b[49m\u001b[43m(\u001b[49m\u001b[43mdividendo\u001b[49m\u001b[43m,\u001b[49m\u001b[43m \u001b[49m\u001b[43mdivisor\u001b[49m\u001b[43m)\u001b[49m\n\u001b[1;32m     13\u001b[0m \u001b[38;5;28mprint\u001b[39m(\u001b[38;5;124m\"\u001b[39m\u001b[38;5;124m> Depois de realizar a divisão\u001b[39m\u001b[38;5;124m\"\u001b[39m)\n\u001b[1;32m     14\u001b[0m \u001b[38;5;28mprint\u001b[39m(\u001b[38;5;124m\"\u001b[39m\u001b[38;5;124m> Resultado da divisao:\u001b[39m\u001b[38;5;124m\"\u001b[39m, dividendo, \u001b[38;5;124m\"\u001b[39m\u001b[38;5;124m/\u001b[39m\u001b[38;5;124m\"\u001b[39m, divisor, \u001b[38;5;124m\"\u001b[39m\u001b[38;5;124m=\u001b[39m\u001b[38;5;124m\"\u001b[39m, resultado)\n",
      "Cell \u001b[0;32mIn[1], line 4\u001b[0m, in \u001b[0;36mdivide\u001b[0;34m(dividendo, divisor)\u001b[0m\n\u001b[1;32m      2\u001b[0m \u001b[38;5;28mprint\u001b[39m(\u001b[38;5;124m\"\u001b[39m\u001b[38;5;124m>>> Início Função: divide(dividendo, divisor)\u001b[39m\u001b[38;5;124m\"\u001b[39m)\n\u001b[1;32m      3\u001b[0m \u001b[38;5;28mprint\u001b[39m(\u001b[38;5;124m\"\u001b[39m\u001b[38;5;124m>>> Antes de realizar a divisão\u001b[39m\u001b[38;5;124m\"\u001b[39m)\n\u001b[0;32m----> 4\u001b[0m resultado \u001b[38;5;241m=\u001b[39m \u001b[43mdividendo\u001b[49m\u001b[43m \u001b[49m\u001b[38;5;241;43m/\u001b[39;49m\u001b[43m \u001b[49m\u001b[43mdivisor\u001b[49m\n\u001b[1;32m      5\u001b[0m \u001b[38;5;28mprint\u001b[39m(\u001b[38;5;124m\"\u001b[39m\u001b[38;5;124m>>> Depois de realizar a divisão\u001b[39m\u001b[38;5;124m\"\u001b[39m)\n\u001b[1;32m      6\u001b[0m \u001b[38;5;28;01mreturn\u001b[39;00m resultado\n",
      "\u001b[0;31mZeroDivisionError\u001b[0m: division by zero"
     ]
    }
   ],
   "source": [
    "def divide(dividendo: int, divisor: int):\n",
    "    print(\">>> Início Função: divide(dividendo, divisor)\")\n",
    "    print(\">>> Antes de realizar a divisão\")\n",
    "    resultado = dividendo / divisor\n",
    "    print(\">>> Depois de realizar a divisão\")\n",
    "    return resultado\n",
    "\n",
    "dividendo = 10\n",
    "divisor = 0\n",
    "\n",
    "print(\"> Antes de chamar a função da divisão\")\n",
    "resultado = divide(dividendo, divisor)\n",
    "print(\"> Depois de realizar a divisão\")\n",
    "print(\"> Resultado da divisao:\", dividendo, \"/\", divisor, \"=\", resultado)\n"
   ]
  },
  {
   "cell_type": "markdown",
   "metadata": {},
   "source": [
    "### Qual o resultado?\n",
    "Na forma original ocorre uma exceção: `ZeroDivisionError` pois tentamos fazer a operação: 10/0. Após ocorrer esse erro, nenhuma outra linha de código é executada.<br> \n",
    "Ou seja, nunca a string: `\"> Depois de realizar a divisão\"` é exibida, por exemplo.\n",
    "\n",
    "## Tratando a Exceção\n",
    "\n",
    "Mas, e se tratarmos essa exceção? Ou seja, e se protegermos o trecho de código onde algum problema pode acontecer?\n",
    "\n",
    "Para isso utilizaremos:\n",
    "- A cláusula **`try`** antes de executar o código que queremos proteger e \n",
    "- A cláusula **`except`** para indicar o que deve ser feito em caso de exceção do tipo `ZeroDivisionError` "
   ]
  },
  {
   "cell_type": "code",
   "execution_count": 3,
   "metadata": {},
   "outputs": [
    {
     "name": "stdout",
     "output_type": "stream",
     "text": [
      "> Antes de chamar a função da divisão\n",
      ">>> Início Função: divide(dividendo, divisor)\n",
      ">>> Antes de realizar a divisão\n",
      ">>>> Entrando no try\n",
      ">>>> Ocorreu uma exceção ZeroDivisionError\n",
      ">>>> O valor do divisor deve ser um inteiro maior que zero!!!!\n",
      ">>> Depois de realizar a divisão\n",
      "> Depois de realizar a divisão\n"
     ]
    }
   ],
   "source": [
    "def divide(dividendo: int, divisor: int):\n",
    "    print(\">>> Início Função: divide(dividendo, divisor)\")\n",
    "    print(\">>> Antes de realizar a divisão\")\n",
    "    resultado = None\n",
    "    try:\n",
    "        print(\">>>> Entrando no try\")\n",
    "        resultado = dividendo / divisor\n",
    "        print(\">>>> Após o cálculo\")\n",
    "    except ZeroDivisionError:\n",
    "        print(\">>>> Ocorreu uma exceção ZeroDivisionError\")\n",
    "        print(\">>>> O valor do divisor deve ser um inteiro maior que zero!!!!\")\n",
    "    print(\">>> Depois de realizar a divisão\")\n",
    "    return resultado\n",
    "\n",
    "dividendo = 10\n",
    "divisor = 0\n",
    "print(\"> Antes de chamar a função da divisão\")\n",
    "resultado = divide(dividendo, divisor)\n",
    "print(\"> Depois de realizar a divisão\")\n",
    "if resultado is not None:\n",
    "    print(\"> Resultado da divisao:\", dividendo, \"/\", divisor, \"=\", resultado)"
   ]
  },
  {
   "cell_type": "markdown",
   "metadata": {},
   "source": [
    "\n",
    "\n",
    "Com isso, conseguimos proteger o código e não é mais exibida a exceção na tela.<br>\n",
    "Acrescentamos também um `if resultado is not None:` na hora de printar o resultado, levando em conta que o valor de `resultado` agora pode ser None.\n",
    "> **IMPORTANTE:** É importante notar que a string `\">>>> Após o cálculo\"` nunca é exibida, pois ao ocorrer a exceção, a execução do código é desviada para a clausa `except` que trata aquela exceção específica\n",
    "\n",
    "## Outras cláusulas utilizadas no tratamento de exceções \n",
    "Também podemos adicionar trechos de código específicos:\n",
    "- A cláusula **`else`** para executar algum código nos casos em que não ocorra o erro\n",
    "- A cláusula **`finally`** para algum código que queremos que sempre seja executado, independente de ocorrer uma exceção ou não\n",
    "\n",
    "Teste o código abaixo mudando o valor da variável `divisor` para ver os diferentes comportamentos de **`else`** e **`finally`**"
   ]
  },
  {
   "cell_type": "code",
   "execution_count": 14,
   "metadata": {},
   "outputs": [
    {
     "name": "stdout",
     "output_type": "stream",
     "text": [
      "> Antes de chamar a função da divisão\n",
      ">>> Início Função: divide(dividendo, divisor)\n",
      ">>> Antes de realizar a divisão\n",
      ">>>> Entrando no try\n",
      ">>>> finally: esta parte sempre é executada\n"
     ]
    },
    {
     "ename": "TypeError",
     "evalue": "unsupported operand type(s) for /: 'int' and 'str'",
     "output_type": "error",
     "traceback": [
      "\u001b[0;31m---------------------------------------------------------------------------\u001b[0m",
      "\u001b[0;31mTypeError\u001b[0m                                 Traceback (most recent call last)",
      "Cell \u001b[0;32mIn[14], line 23\u001b[0m\n\u001b[1;32m     20\u001b[0m divisor \u001b[38;5;241m=\u001b[39m \u001b[38;5;124m\"\u001b[39m\u001b[38;5;124mABC\u001b[39m\u001b[38;5;124m\"\u001b[39m\n\u001b[1;32m     22\u001b[0m \u001b[38;5;28mprint\u001b[39m(\u001b[38;5;124m\"\u001b[39m\u001b[38;5;124m> Antes de chamar a função da divisão\u001b[39m\u001b[38;5;124m\"\u001b[39m)\n\u001b[0;32m---> 23\u001b[0m resultado \u001b[38;5;241m=\u001b[39m \u001b[43mdivide\u001b[49m\u001b[43m(\u001b[49m\u001b[43mdividendo\u001b[49m\u001b[43m,\u001b[49m\u001b[43m \u001b[49m\u001b[43mdivisor\u001b[49m\u001b[43m)\u001b[49m\n\u001b[1;32m     24\u001b[0m \u001b[38;5;28mprint\u001b[39m(\u001b[38;5;124m\"\u001b[39m\u001b[38;5;124m> Depois de realizar a divisão\u001b[39m\u001b[38;5;124m\"\u001b[39m)\n\u001b[1;32m     25\u001b[0m \u001b[38;5;28;01mif\u001b[39;00m resultado \u001b[38;5;129;01mis\u001b[39;00m \u001b[38;5;129;01mnot\u001b[39;00m \u001b[38;5;28;01mNone\u001b[39;00m:\n",
      "Cell \u001b[0;32mIn[14], line 7\u001b[0m, in \u001b[0;36mdivide\u001b[0;34m(dividendo, divisor)\u001b[0m\n\u001b[1;32m      5\u001b[0m \u001b[38;5;28;01mtry\u001b[39;00m:\n\u001b[1;32m      6\u001b[0m     \u001b[38;5;28mprint\u001b[39m(\u001b[38;5;124m\"\u001b[39m\u001b[38;5;124m>>>> Entrando no try\u001b[39m\u001b[38;5;124m\"\u001b[39m)\n\u001b[0;32m----> 7\u001b[0m     resultado \u001b[38;5;241m=\u001b[39m \u001b[43mdividendo\u001b[49m\u001b[43m \u001b[49m\u001b[38;5;241;43m/\u001b[39;49m\u001b[43m \u001b[49m\u001b[43mdivisor\u001b[49m\n\u001b[1;32m      8\u001b[0m     \u001b[38;5;28mprint\u001b[39m(\u001b[38;5;124m\"\u001b[39m\u001b[38;5;124m>>>> Após o cálculo\u001b[39m\u001b[38;5;124m\"\u001b[39m)\n\u001b[1;32m      9\u001b[0m \u001b[38;5;28;01mexcept\u001b[39;00m \u001b[38;5;167;01mZeroDivisionError\u001b[39;00m:\n",
      "\u001b[0;31mTypeError\u001b[0m: unsupported operand type(s) for /: 'int' and 'str'"
     ]
    }
   ],
   "source": [
    "def divide(dividendo: int, divisor: int):\n",
    "    print(\">>> Início Função: divide(dividendo, divisor)\")\n",
    "    print(\">>> Antes de realizar a divisão\")\n",
    "    resultado = None\n",
    "    try:\n",
    "        print(\">>>> Entrando no try\")\n",
    "        resultado = dividendo / divisor\n",
    "        print(\">>>> Após o cálculo\")\n",
    "    except ZeroDivisionError:\n",
    "        print(\">>>> Ocorreu uma exceção ZeroDivisionError\")\n",
    "        print(\">>>> O valor do divisor deve ser um inteiro maior que zero!!!!\")\n",
    "    else:\n",
    "        print(\">>>> else: NÃO Ocorreu exceção\")\n",
    "    finally:\n",
    "        print(\">>>> finally: esta parte sempre é executada\")\n",
    "    print(\">>> Depois de realizar a divisão\")\n",
    "    return resultado\n",
    "\n",
    "dividendo = 10\n",
    "divisor = \"ABC\"\n",
    "\n",
    "print(\"> Antes de chamar a função da divisão\")\n",
    "resultado = divide(dividendo, divisor)\n",
    "print(\"> Depois de realizar a divisão\")\n",
    "if resultado is not None:\n",
    "    print(\"> Resultado da divisao:\", dividendo, \"/\", divisor, \"=\", resultado)"
   ]
  },
  {
   "cell_type": "markdown",
   "metadata": {},
   "source": [
    "## Tipos de Exceções\n",
    "\n",
    "Você já deve saber que em Python existem muitos tipos de exceções além de `ZeroDivisionError`.\n",
    "Como estamos tratando essa exceção específica `ZeroDivisionError`, o que acontece se outro tipo de exceção ocorrer?<br>\n",
    "Veja o trecho de código abaixo. Estamos forçando outro tipo de exceção ao atribuir o valor **\"a\"** ao divisor. O que acontece?"
   ]
  },
  {
   "cell_type": "code",
   "execution_count": null,
   "metadata": {},
   "outputs": [],
   "source": [
    "def divide(dividendo: int, divisor: int):\n",
    "    print(\">>> Início Função: divide(dividendo, divisor)\")\n",
    "    print(\">>> Antes de realizar a divisão\")\n",
    "    resultado = None\n",
    "    try:\n",
    "        print(\">>>> Entrando no try\")\n",
    "        resultado = dividendo / divisor\n",
    "        print(\">>>> Após o cálculo\")\n",
    "    except ZeroDivisionError:\n",
    "        print(\">>>> Ocorreu uma exceção ZeroDivisionError\")\n",
    "        print(\">>>> O valor do divisor deve ser um inteiro maior que zero!!!!\")\n",
    "    else:\n",
    "        print(\">>>> else: NÃO Ocorreu exceção\")\n",
    "    finally:\n",
    "        print(\">>>> finally: esta parte sempre é executada\")\n",
    "    print(\">>> Depois de realizar a divisão\")\n",
    "    return resultado\n",
    "\n",
    "dividendo = 10\n",
    "divisor = \"a\"\n",
    "\n",
    "print(\"> Antes de chamar a função da divisão\")\n",
    "resultado = divide(dividendo, divisor)\n",
    "print(\"> Depois de realizar a divisão\")\n",
    "if resultado is not None:\n",
    "    print(\"> Resultado da divisao:\", dividendo, \"/\", divisor, \"=\", resultado)"
   ]
  },
  {
   "cell_type": "markdown",
   "metadata": {},
   "source": [
    "### O que aconteceu? \n",
    "\n",
    "Acaba ocorrendo outro tipo de exceção: **`TypeError`** e essa exceção não está sendo tratada.<br>\n",
    "Uma forma de contornar isso seria utilizar uma exceção mais genérica, seguindo a hierarquia de classes de exceção:\n",
    "\n",
    "<img src=\"img/tipos_excecoes.png\" width=\"400\" height=\"600\" alt=\"Imagem mostrando tipos de exceções\" title=\"Tipos de Exceções\" />\n",
    "\n",
    "\n",
    "Então, se tratarmos o tipo de exceção **`Exception`** que é mais genérico que `TypeError` e `ZeroDivisionError` deve resolver o nosso problema, correto?<br>\n",
    "Dê uma olhada no código abaixo. Trocamos somente o tipo da exceção que está sendo tratada para **`Exception`**:\n"
   ]
  },
  {
   "cell_type": "code",
   "execution_count": null,
   "metadata": {},
   "outputs": [],
   "source": [
    "def divide(dividendo: int, divisor: int):\n",
    "    print(\">>> Início Função: divide(dividendo, divisor)\")\n",
    "    print(\">>> Antes de realizar a divisão\")\n",
    "    resultado = None\n",
    "    try:\n",
    "        print(\">>>> Entrando no try\")\n",
    "        resultado = dividendo / divisor\n",
    "        print(\">>>> Após o cálculo\")\n",
    "    except Exception:\n",
    "        print(\">>>> Ocorreu uma exceção ZeroDivisionError\")\n",
    "        print(\">>>> O valor do divisor deve ser um inteiro maior que zero!!!!\")\n",
    "    print(\">>> Depois de realizar a divisão\")\n",
    "    return resultado\n",
    "\n",
    "dividendo = 10\n",
    "divisor = \"a\"\n",
    "\n",
    "print(\"> Antes de chamar a função da divisão\")\n",
    "resultado = divide(dividendo, divisor)\n",
    "print(\"> Depois de realizar a divisão\")\n",
    "if resultado is not None:\n",
    "    print(\"> Resultado da divisao:\", dividendo, \"/\", divisor, \"=\", resultado)"
   ]
  },
  {
   "cell_type": "markdown",
   "metadata": {},
   "source": [
    "### O que aconteceu?\n",
    "\n",
    "O tratamento da exceção funcionou. Conseguimos tratar também a exceção do tipo `TypeError`.\n",
    "> No entanto, você notou que a mensagem: `>>>> Ocorreu uma exceção ZeroDivisionError` continua aparecendo? Então, nem sempre é a melhor saída simplesmente tratar a exceção o mais genérica possível, pois não conseguimos dar uma mensagem de erro correta para o usuário\n",
    "\n",
    "Que tal então se ao invés de trocar, simplesmente adicionarmos o tratamento da outra exceção específica?<br>\n",
    "Teste alterando o valor do divisor para **`0`** e **`\"a\"`** para ver o resultado:\n"
   ]
  },
  {
   "cell_type": "code",
   "execution_count": 26,
   "metadata": {},
   "outputs": [
    {
     "name": "stdout",
     "output_type": "stream",
     "text": [
      "> Antes de chamar a função da divisão\n",
      ">>> Início Função: divide(dividendo, divisor)\n",
      ">>> Antes de realizar a divisão\n",
      ">>>> Entrando no try\n",
      ">>>> Ocorreu uma exceção ZeroDivisionError\n",
      ">>>> O valor do divisor deve ser um inteiro maior que zero!!!!\n",
      ">>> Depois de realizar a divisão\n",
      "> Depois de realizar a divisão\n"
     ]
    }
   ],
   "source": [
    "def divide(dividendo: int, divisor: int):\n",
    "    print(\">>> Início Função: divide(dividendo, divisor)\")\n",
    "    print(\">>> Antes de realizar a divisão\")\n",
    "    resultado = None\n",
    "    try:\n",
    "        print(\">>>> Entrando no try\")\n",
    "        resultado = dividendo / divisor\n",
    "        print(\">>>> Após o cálculo\")\n",
    "    except ZeroDivisionError:\n",
    "        print(\">>>> Ocorreu uma exceção ZeroDivisionError\")\n",
    "        print(\">>>> O valor do divisor deve ser um inteiro maior que zero!!!!\")\n",
    "    except TypeError:\n",
    "        print(\">>>> Ocorreu uma exceção TypeError\")\n",
    "        print(\">>>> O valor do divisor deve ser numérico!!!!\")\n",
    "    print(\">>> Depois de realizar a divisão\")\n",
    "    return resultado\n",
    "\n",
    "dividendo = 10\n",
    "divisor = 0\n",
    "\n",
    "print(\"> Antes de chamar a função da divisão\")\n",
    "resultado = divide(dividendo, divisor)\n",
    "print(\"> Depois de realizar a divisão\")\n",
    "if resultado is not None:\n",
    "    print(\"> Resultado da divisao:\", dividendo, \"/\", divisor, \"=\", resultado)"
   ]
  },
  {
   "cell_type": "markdown",
   "metadata": {},
   "source": [
    "## Disparando exceções\n",
    "\n",
    "Além disso, em Python é possível disparar exceções explicitamente, utilizando o comando **`raise`**.<br>\n",
    "No código abaixo, emitimos uma exceção genérica do tipo **`Exception`**, para ver o comportamento padrão do Python quando uma exceção é disparada mas não é tratada."
   ]
  },
  {
   "cell_type": "code",
   "execution_count": 15,
   "metadata": {},
   "outputs": [
    {
     "name": "stdout",
     "output_type": "stream",
     "text": [
      "Antes da exceção\n"
     ]
    },
    {
     "ename": "Exception",
     "evalue": "Levantando uma exceção",
     "output_type": "error",
     "traceback": [
      "\u001b[0;31m---------------------------------------------------------------------------\u001b[0m",
      "\u001b[0;31mException\u001b[0m                                 Traceback (most recent call last)",
      "Cell \u001b[0;32mIn[15], line 3\u001b[0m\n\u001b[1;32m      1\u001b[0m \u001b[38;5;28mprint\u001b[39m(\u001b[38;5;124m\"\u001b[39m\u001b[38;5;124mAntes da exceção\u001b[39m\u001b[38;5;124m\"\u001b[39m)\n\u001b[0;32m----> 3\u001b[0m \u001b[38;5;28;01mraise\u001b[39;00m \u001b[38;5;167;01mException\u001b[39;00m(\u001b[38;5;124m\"\u001b[39m\u001b[38;5;124mLevantando uma exceção\u001b[39m\u001b[38;5;124m\"\u001b[39m)\n\u001b[1;32m      5\u001b[0m \u001b[38;5;28mprint\u001b[39m(\u001b[38;5;124m\"\u001b[39m\u001b[38;5;124mEssa linha nunca será executada\u001b[39m\u001b[38;5;124m\"\u001b[39m)\n",
      "\u001b[0;31mException\u001b[0m: Levantando uma exceção"
     ]
    }
   ],
   "source": [
    "print(\"Antes da exceção\")\n",
    "\n",
    "raise Exception(\"Levantando uma exceção\")\n",
    "    \n",
    "print(\"Essa linha nunca será executada\")"
   ]
  },
  {
   "cell_type": "markdown",
   "metadata": {},
   "source": [
    "## Lidando com o conteúdo da exceção\n",
    "\n",
    "Muitas vezes pode ser importante manipular as informações da exceção. Para isso, podemos dar um \"nome\" ao objeto de exceção para permitir acesso aos seus atributos e métodos públicos.<br> \n",
    "Veja a variável **`e`** no código abaixo, ela contém o objeto de exceção. A partir desse objeto é possível obter diversas informações sobre a exceção que ocorreu.<br> \n",
    "Veja o exemplo a seguir:"
   ]
  },
  {
   "cell_type": "code",
   "execution_count": 25,
   "metadata": {},
   "outputs": [
    {
     "name": "stdout",
     "output_type": "stream",
     "text": [
      "Provocando uma exceção: 10/0\n",
      ">>> Ocorreu uma exceção inesperada :-)\n",
      "division by zero\n"
     ]
    },
    {
     "ename": "AttributeError",
     "evalue": "'traceback' object has no attribute 'format_exc'",
     "output_type": "error",
     "traceback": [
      "\u001b[0;31m---------------------------------------------------------------------------\u001b[0m",
      "\u001b[0;31mZeroDivisionError\u001b[0m                         Traceback (most recent call last)",
      "Cell \u001b[0;32mIn[25], line 3\u001b[0m\n\u001b[1;32m      2\u001b[0m     \u001b[38;5;28mprint\u001b[39m(\u001b[38;5;124m\"\u001b[39m\u001b[38;5;124mProvocando uma exceção: 10/0\u001b[39m\u001b[38;5;124m\"\u001b[39m)\n\u001b[0;32m----> 3\u001b[0m     \u001b[38;5;241;43m10\u001b[39;49m\u001b[38;5;241;43m/\u001b[39;49m\u001b[38;5;241;43m0\u001b[39;49m\n\u001b[1;32m      4\u001b[0m \u001b[38;5;28;01mexcept\u001b[39;00m \u001b[38;5;167;01mException\u001b[39;00m \u001b[38;5;28;01mas\u001b[39;00m e:\n",
      "\u001b[0;31mZeroDivisionError\u001b[0m: division by zero",
      "\nDuring handling of the above exception, another exception occurred:\n",
      "\u001b[0;31mAttributeError\u001b[0m                            Traceback (most recent call last)",
      "Cell \u001b[0;32mIn[25], line 7\u001b[0m\n\u001b[1;32m      5\u001b[0m \u001b[38;5;28mprint\u001b[39m(\u001b[38;5;124m\"\u001b[39m\u001b[38;5;124m>>> Ocorreu uma exceção inesperada :-)\u001b[39m\u001b[38;5;124m\"\u001b[39m)\n\u001b[1;32m      6\u001b[0m \u001b[38;5;28mprint\u001b[39m(e)\n\u001b[0;32m----> 7\u001b[0m \u001b[38;5;28mprint\u001b[39m(\u001b[38;5;124m\"\u001b[39m\u001b[38;5;124mLinha onde ocorreu a exceção:\u001b[39m\u001b[38;5;124m\"\u001b[39m, \u001b[43me\u001b[49m\u001b[38;5;241;43m.\u001b[39;49m\u001b[43m__traceback__\u001b[49m\u001b[38;5;241;43m.\u001b[39;49m\u001b[43mformat_exc\u001b[49m())\n\u001b[1;32m      8\u001b[0m \u001b[38;5;28mprint\u001b[39m(\u001b[38;5;124m\"\u001b[39m\u001b[38;5;124mNome da classe da exceção que ocorreu:\u001b[39m\u001b[38;5;124m\"\u001b[39m, e\u001b[38;5;241m.\u001b[39m\u001b[38;5;18m__class__\u001b[39m\u001b[38;5;241m.\u001b[39m\u001b[38;5;18m__name__\u001b[39m)  \n",
      "\u001b[0;31mAttributeError\u001b[0m: 'traceback' object has no attribute 'format_exc'"
     ]
    }
   ],
   "source": [
    "try:\n",
    "    print(\"Provocando uma exceção: 10/0\")\n",
    "    10/0\n",
    "except Exception as e:\n",
    "    print(\">>> Ocorreu uma exceção inesperada :-)\")\n",
    "    print(e)\n",
    "    print(\"Linha onde ocorreu a exceção:\", e.__traceback__.format_exc())\n",
    "    print(\"Nome da classe da exceção que ocorreu:\", e.__class__.__name__)  \n"
   ]
  },
  {
   "cell_type": "markdown",
   "metadata": {},
   "source": [
    "## Criando sua própria classe de Exceção\n",
    "\n",
    "Em Python você pode ainda criar suas próprias exceções. Basta para isso criar uma classe que faça uma herança de alguma classe da hierarquia de classes de exceção. Neste exemplo, criaremos a classe **`SaldoInsuficienteException`** que herda de `Exception`:\n",
    "\n",
    "<img src=\"img/tipos_excecoes_customizada.png\" width=\"400\" height=\"600\" alt=\"Imagem mostrando tipos de exceções\" title=\"Tipos de Exceções\" />\n",
    "\n",
    "### Para que isso seria útil?\n",
    "\n",
    "Você pode, por exemplo, definir classes de exceções de negócio. Essas exceções podem ser utilizadas para trafegar uma mensagem de violação de alguma regra de negócio até a tela que irá exibi-la.<br>\n",
    "\n",
    "Veja este exemplo de código a seguir. Definimos uma classe de exceção **`SaldoInsuficienteException`** que herda de `Exception`. Definimos também uma classe que representa uma `ContaBancaria` bem simples, só para testes. No momento de um saque, a conta bancária verifica se o saldo é suficiente para realizar o saque e, caso não seja, levanta a exceção `SaldoInsuficienteException`.\n",
    "\n",
    "Teste o código alterando os valores que são passados para o saque em: `conta.realiza_saque(2000.00)`\n"
   ]
  },
  {
   "cell_type": "code",
   "execution_count": 26,
   "metadata": {},
   "outputs": [
    {
     "name": "stdout",
     "output_type": "stream",
     "text": [
      "Instanciando uma Conta Bancaria\n",
      "Tentando realizar o saque\n",
      "O saldo R$ 1000.00 é insuficiente para realizar o saque do valor R$ 2000.00\n"
     ]
    }
   ],
   "source": [
    "class SaldoInsuficienteException(Exception):\n",
    "    def __init__(self, saldo: float, valor_saque: float):\n",
    "        self.mensagem = \"O saldo R$ {:.2f} é insuficiente para realizar o saque do valor R$ {:.2f}\"\n",
    "        super().__init__(self.mensagem.format(saldo, valor_saque))\n",
    "        \n",
    "\n",
    "class ContaBancaria:\n",
    "    def __init__(self, numero, saldo_inicial: float):\n",
    "        self.__numero = numero\n",
    "        self.__saldo = saldo_inicial\n",
    "        \n",
    "    def realiza_saque(self, valor_saque):\n",
    "        if valor_saque > self.__saldo:\n",
    "            raise SaldoInsuficienteException(self.__saldo, valor_saque)\n",
    "        else:\n",
    "            self.__saldo -= valor_saque\n",
    "        \n",
    "\n",
    "print(\"Instanciando uma Conta Bancaria\")\n",
    "conta = ContaBancaria(123, 1000.00)\n",
    "try:\n",
    "    print(\"Tentando realizar o saque\")\n",
    "    \n",
    "    conta.realiza_saque(2000.00) \n",
    "    \n",
    "    print(\"Saque realizado com sucesso!\")\n",
    "except SaldoInsuficienteException as e:\n",
    "    print(e)\n",
    "    "
   ]
  },
  {
   "cell_type": "markdown",
   "metadata": {},
   "source": [
    "## Para finalizar\n",
    "\n",
    "Com isso tivemos uma visão geral de exceções. Se você quiser se aprofundar, consulte a documentação oficial do Python sobre exceções: <a href=\"https://docs.python.org/3/library/exceptions.html\">https://docs.python.org/3/library/exceptions.html</a>"
   ]
  }
 ],
 "metadata": {
  "kernelspec": {
   "display_name": "Python 3 (ipykernel)",
   "language": "python",
   "name": "python3"
  },
  "language_info": {
   "codemirror_mode": {
    "name": "ipython",
    "version": 3
   },
   "file_extension": ".py",
   "mimetype": "text/x-python",
   "name": "python",
   "nbconvert_exporter": "python",
   "pygments_lexer": "ipython3",
   "version": "3.9.7"
  }
 },
 "nbformat": 4,
 "nbformat_minor": 2
}
