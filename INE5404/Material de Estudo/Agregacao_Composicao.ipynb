{
 "cells": [
  {
   "cell_type": "markdown",
   "metadata": {},
   "source": [
    "# Agregação e Composição\n",
    "\n",
    "Em um sistema desenvolvido usando o paradigma de Orientação a Objetos, é comum que uma classe possua como atributos referências a objetos de outras classes. Essas relações são chamadas de `Associações`. Dois casos especiais de associação são a `Agregação` e a `Composição`. \n",
    "\n",
    "## Um problema-exemplo\n",
    "\n",
    "Vamos analisar um problema simplificado: um motorista de aplicativo precisa controlar os dados do seu veículo e o uso e gastos com combustível. Um Carro tem o seu Motor, e para este problema, podemos considerar que o carro pode conter um motorista. O motorista é uma Pessoa que possui dinheiro para poder abastecer o seu Carro. Existem também os Clientes que possuem seus endereços. É necessário que os Clientes mantenham uma lista dos carros que já utilizaram.\n",
    "\n",
    "## Diagrama de classes\n",
    "\n",
    "<img src=\"img/diagrama_agregacao_composicao.jpg\" alt=\"Imagem mostrando o diagrama de classes\" title=\"Diagrama de Classes\" />\n",
    "\n",
    "\n",
    "## Implementando as classes do exemplo\n",
    "\n",
    "Primeiro vamos declarar uma classe `Pessoa` com os atributos `__nome`, `__cpf` e `__dinheiro`. \n",
    "\n",
    "> Para fins didáticos, vamos escrever o código do método especial do python `__str__()`, que define o modo que um objeto dessa classe é convertido em um objeto do tipo string. Vamos também imprimir uma mensagem no construtor dessa classe."
   ]
  },
  {
   "cell_type": "code",
   "execution_count": null,
   "metadata": {},
   "outputs": [],
   "source": [
    "class Pessoa:\n",
    "    \n",
    "    def __init__(self, nome: str, cpf: str, dinheiro: float):\n",
    "        self.__nome = nome\n",
    "        self.__cpf = cpf\n",
    "        self.__dinheiro = dinheiro\n",
    "        print(self, 'criado.')\n",
    "        \n",
    "    @property\n",
    "    def nome(self):\n",
    "        return self.__nome\n",
    "    \n",
    "    @property\n",
    "    def cpf(self):\n",
    "        return self.__cpf\n",
    "    \n",
    "    @property\n",
    "    def dinheiro(self):\n",
    "        return round(self.__dinheiro, 2)\n",
    "    \n",
    "    @dinheiro.setter\n",
    "    def dinheiro(self, dinheiro):\n",
    "        self.__dinheiro = dinheiro\n",
    "        \n",
    "    def __str__(self):\n",
    "        return 'Pessoa de nome ' + self.nome"
   ]
  },
  {
   "cell_type": "markdown",
   "metadata": {},
   "source": [
    "Agora, vamos declarar uma classe `Motor`, que representa o motor de um carro. O método `__str__()` também é definido nesta classe e uma mensagem é impressa no construtor."
   ]
  },
  {
   "cell_type": "code",
   "execution_count": null,
   "metadata": {},
   "outputs": [],
   "source": [
    "class Motor:\n",
    "    \n",
    "    def __init__(self, potencia: int, combustivel: str):\n",
    "        self.__potencia = potencia\n",
    "        self.__combustivel = combustivel\n",
    "        print(self, 'criado.')\n",
    "        \n",
    "    @property\n",
    "    def potencia(self):\n",
    "        return self.__potencia\n",
    "    \n",
    "    @property\n",
    "    def combustivel(self):\n",
    "        return self.__combustivel\n",
    "\n",
    "    def __str__(self):\n",
    "        return 'Motor de potencia ' + str(self.potencia)"
   ]
  },
  {
   "cell_type": "markdown",
   "metadata": {},
   "source": [
    "Finalmente, vamos declarar uma classe `Carro` que se relacionará com as duas classes anteriores.\n",
    "\n",
    "> A saber, todo carro contém um motorista, especialmente quando estiver em movimento ;-)\n",
    "O motorista é um objeto da classe `Pessoa`. O Carro também contém o seu motor, que é um objeto da classe `Motor`.\n",
    "\n",
    "A classe `Carro` tem um método `abastecer` que acessa ambos os objetos. O método `__str__()` também é definido e uma mensagem de instanciação é impressa no construtor."
   ]
  },
  {
   "cell_type": "code",
   "execution_count": null,
   "metadata": {},
   "outputs": [],
   "source": [
    "class Carro:\n",
    "    \n",
    "    def __init__(self, modelo: str, cor: str, placa: str, motorista: Pessoa, potencia: int, combustivel: str):\n",
    "        self.__modelo = modelo\n",
    "        self.__cor = cor\n",
    "        self.__placa = placa\n",
    "        self.__motorista = motorista\n",
    "        self.__motor = Motor(potencia, combustivel)\n",
    "        self.__nivel_combustivel = 0\n",
    "        print(self, 'criado.')\n",
    "\n",
    "    @property\n",
    "    def modelo(self):\n",
    "        return self.__modelo\n",
    "    \n",
    "    @property\n",
    "    def cor(self):\n",
    "        return self.__cor\n",
    "    \n",
    "    @cor.setter\n",
    "    def cor(self, cor: str):\n",
    "        self.__cor = cor\n",
    "    \n",
    "    @property\n",
    "    def placa(self):\n",
    "        return self.__placa\n",
    "    \n",
    "    @placa.setter\n",
    "    def placa(self, placa: str):\n",
    "        self.__placa = placa\n",
    "    \n",
    "    @property\n",
    "    def potencia(self):\n",
    "        return self.__motor.potencia\n",
    "    \n",
    "    @property\n",
    "    def motorista(self):\n",
    "        return self.__motorista\n",
    "    \n",
    "    @motorista.setter\n",
    "    def motorista(self, motorista: Pessoa):\n",
    "        self.__motorista = motorista  \n",
    "  \n",
    "    @property\n",
    "    def nivel_combustivel(self):\n",
    "        return self.__nivel_combustivel\n",
    "    \n",
    "    def abastecer(self, litros: int):\n",
    "        total = 0\n",
    "        if self.__motor.combustivel == 'gasolina':\n",
    "            total = litros * 4.13\n",
    "        elif self.__motor.combustivel == 'alcool':\n",
    "            total = litros * 3.49\n",
    "        if total < self.motorista.dinheiro:\n",
    "            self.motorista.dinheiro -= total\n",
    "            self.__nivel_combustivel += litros\n",
    "            \n",
    "    def __str__(self):\n",
    "        return 'Carro de modelo ' + self.modelo\n",
    "            "
   ]
  },
  {
   "cell_type": "markdown",
   "metadata": {},
   "source": [
    "### E agora vamos instanciar alguns objetos destas classes."
   ]
  },
  {
   "cell_type": "code",
   "execution_count": null,
   "metadata": {},
   "outputs": [],
   "source": [
    "guilherme = Pessoa('Guilherme', '123.456.789-0', 10000)\n",
    "jean = Pessoa('Jean', '987.654.321-0', 100)\n",
    "\n",
    "carro1 = Carro('Gol', 'Vermelho', 'ABC-1234', guilherme, 75, 'gasolina')\n",
    "carro2 = Carro('Fox', 'Prata', 'ABC-9999', jean, 104, 'alcool')\n",
    "carro3 = Carro('Fusca', 'Azul', 'ABC-0000', jean, 65, 'gasolina')"
   ]
  },
  {
   "cell_type": "markdown",
   "metadata": {},
   "source": [
    "> Note que embora pareça que apenas 5 objetos foram instanciados, o construtor da classe `Carro` instanciou um novo objeto da classe `Motor` para cada carro."
   ]
  },
  {
   "cell_type": "markdown",
   "metadata": {},
   "source": [
    "E aqui podemos fazer algumas manipulações com os objetos instanciados. Por exemplo, abastecer os carros e imprimir algumas informações."
   ]
  },
  {
   "cell_type": "code",
   "execution_count": null,
   "metadata": {},
   "outputs": [],
   "source": [
    "print('Guilherme: R$', guilherme.dinheiro, 'Jean: R$', jean.dinheiro)\n",
    "carro1.abastecer(10)\n",
    "carro2.abastecer(5)\n",
    "carro3.abastecer(20)\n",
    "carro2.abastecer(8)\n",
    "print('Guilherme: R$', guilherme.dinheiro, 'Jean R$:', jean.dinheiro)\n",
    "print(carro1.motorista.nome, carro1.modelo, carro1.potencia, carro1.nivel_combustivel)\n",
    "print(carro2.motorista.nome, carro2.modelo, carro2.potencia, carro2.nivel_combustivel)\n",
    "print(carro3.motorista.nome, carro3.modelo, carro3.potencia, carro3.nivel_combustivel)"
   ]
  },
  {
   "cell_type": "markdown",
   "metadata": {},
   "source": [
    "### E agora vejamos o que acontece ao destruírmos o objeto que representa o fusca.\n",
    "\n",
    "Para isso, apenas para fins didáticos, vamos primeiro definir uma função usando o pacote `gc` que será responsável por listar todos os objetos instanciados de uma determinada classe. Vamos chamar essa função para as classes `Pessoa`, `Motor` e `Carro` antes e depois de destruir o objeto `carro3`, que no nosso caso está representando o fusca.\n",
    "Também utilizaremos o comando `del` que permite remover um determinado objeto da memória.\n",
    "> Mais informações sobre gc.get_objects() e del():\n",
    "https://docs.python.org/3/library/gc.html#gc.get_objects\n",
    "https://docs.python.org/3/tutorial/datastructures.html#the-del-statement"
   ]
  },
  {
   "cell_type": "code",
   "execution_count": null,
   "metadata": {},
   "outputs": [],
   "source": [
    "import gc\n",
    "\n",
    "def lista_instancias(Classe):\n",
    "    for obj in gc.get_objects():\n",
    "        if isinstance(obj, Classe):\n",
    "            print(id(obj), obj)\n",
    "\n",
    "print('Instâncias:')\n",
    "lista_instancias(Pessoa)\n",
    "lista_instancias(Motor)\n",
    "lista_instancias(Carro)\n",
    "\n",
    "print('------------')\n",
    "print('Destruindo o carro', carro3.modelo)\n",
    "del(carro3)\n",
    "print('------------')\n",
    "print('Instâncias:')\n",
    "lista_instancias(Pessoa)\n",
    "lista_instancias(Motor)\n",
    "lista_instancias(Carro)"
   ]
  },
  {
   "cell_type": "markdown",
   "metadata": {},
   "source": [
    "### Note como é forte a relação entre as classes `Carro` e `Motor`:\n",
    "\n",
    "Ao destruírmos o objeto `carro3`, referente ao Fusca, o objeto motor de potência 65 deste carro também foi automaticamente destruído. O mesmo não aconteceu com objeto da classe `Pessoa` que é o motorista do carro.\n",
    "\n",
    "O motor é instanciado **diretamente no construtor** da classe `Carro`, de modo que o motor instanciado está diretamente relacionado com o respectivo objeto carro. Se um carro for destruído, **o motor relacionado à ele também será**. Note que o motor de um carro **não pode mudar** e que para construir um objeto da classe `Carro` é preciso passar como parâmetros as informações do motor (`potencia` e `combustível`), mas não um objeto da classe `Motor`. Um motor está relacionado com **um único** carro.\n",
    "\n",
    "<img src=\"img/diagrama_agregacao_composicao_parcial.jpg\" alt=\"Imagem mostrando o diagrama de classes\" title=\"Diagrama de Classes\" />\n",
    "\n",
    "A relação entre as classes `Carro` e `Pessoa` é mais fraca: objetos da classe `Pessoa` são instanciados \"**fora**\" da classe `Carro` e um desses objetos é passado ao construtor desta classe como sendo o `motorista` do carro. Se um carro for destruído, o seu motorista continua existindo. É possível alterar o motorista de um carro e cada pessoa pode estar relacionada com diversos carros.\n",
    "\n",
    "Em cada um desses casos temos um tipo específico de associação:\n",
    "\n",
    "- **Composição:** *a parte não existe sem o objeto*. Todo carro tem um motor, e esse motor só existe dentro de um único carro. No contexto deste sistema, podemos pensar que um motor não pode existir sem que esteja dentro de um carro. Se um carro se move, o motor move-se junto. Se um carro é destruído, o seu motor também é destruído. A forma mais usual de tratar composição é instanciar o objeto \"parte\" diretamente **dentro** da classe que a contém, garantindo que sua existência dependa da existência do objeto \"todo\".\n",
    "\n",
    "- **Agregação:** *a parte pode ser compartilhada com outros objetos*. Esse é o caso do nosso exemplo `Pessoa`, pois o atributo `motorista` da classe `Carro` faz referência a um objeto do tipo `Pessoa` que pode estar agregado a vários outros objetos (a mesma pessoa pode ser motorista de vários carros). Além disso, mesmo que um carro seja destruído, a pessoa (seu motorista) continua existindo e continua podendo ser motorista de outros carros. Assim, o objeto da classe `Pessoa` deve ser instanciado **fora** da classe `Carro`.\n",
    "\n",
    "Nota-se, portanto, que a **composição** é um tipo de relação mais forte que a **agregação**.\n",
    "\n",
    "<img src=\"img/comp_agreg.png\" width=\"800\" height=\"1600\" alt=\"Imagem mostrando definições de composição e agregação\" title=\"Composição e Agregação\" />\n",
    "\n",
    "---\n",
    "# E o Cliente?\n",
    "\n",
    "Considere o caso dos clientes que utilizam o carro pelo aplicativo.\n",
    "\n",
    "<img src=\"img/diagrama_agregacao_composicao_cliente.jpg\" alt=\"Imagem mostrando o diagrama de classes\" title=\"Diagrama de Classes\" />\n",
    "\n",
    "> Vamos definir uma classe `Cliente` que estende a classe `Pessoa`, adicionado os atributos `enderecos` e `automoveis`.\n",
    "\n",
    "> O atributo `enderecos` é uma lista de objetos da classe `Endereco`, definida abaixo:"
   ]
  },
  {
   "cell_type": "code",
   "execution_count": null,
   "metadata": {},
   "outputs": [],
   "source": [
    "class Endereco:\n",
    "    \n",
    "    def __init__(self, rua: str = \"\", complemento: str = \"\", bairro: str = \"\", cidade: str = \"\", cep: str = \"\"):\n",
    "        self.rua = rua\n",
    "        self.complemento = complemento\n",
    "        self.bairro = bairro\n",
    "        self.cidade = cidade\n",
    "        self.cep = cep\n",
    "        print(self, 'criado.')\n",
    "        \n",
    "    def __str__(self):\n",
    "        return 'Endereco: ' + self.rua + ', ' + self.complemento"
   ]
  },
  {
   "cell_type": "markdown",
   "metadata": {},
   "source": [
    "> Ou seja, estamos considerando que um cliente pode ter vários endereços.\n",
    "\n",
    "E agora a classe `Cliente`, onde o atributo `automoveis` é uma lista de carros que ele já utilizou. São definidos métodos para adicionar novo endereço e novo automóvel ao cliente.\n",
    "\n",
    "> Aqui, para fins de simplificação, não vamos definir os métodos para remover ou alterar endereços ou automóveis"
   ]
  },
  {
   "cell_type": "code",
   "execution_count": null,
   "metadata": {},
   "outputs": [],
   "source": [
    "class Cliente(Pessoa):\n",
    "    \n",
    "    def __init__(self, nome, cpf):\n",
    "        super().__init__(nome, cpf, 0)\n",
    "        self.__enderecos = []\n",
    "        self.__automoveis = []\n",
    "        \n",
    "    @property\n",
    "    def enderecos(self):\n",
    "        return self.__enderecos\n",
    "    \n",
    "    @property\n",
    "    def automoveis(self):\n",
    "        return self.__automoveis\n",
    "        \n",
    "    def add_endereco(self, rua: str = \"\", complemento: str = \"\", bairro: str = \"\", cidade: str = \"\", cep: str = \"\"):\n",
    "        self.__enderecos.append(Endereco(rua, complemento, bairro, cidade, cep))\n",
    "        \n",
    "    def add_automovel(self, carro: Carro):\n",
    "        self.__automoveis.append(carro)\n",
    "        \n",
    "    def __str__(self):\n",
    "        return 'Cliente ' + self.nome"
   ]
  },
  {
   "cell_type": "markdown",
   "metadata": {},
   "source": [
    "### Note as diferenças entre os atributos enderecos e automoveis\n",
    "\n",
    "- um novo endereço é instanciado **dentro** do método `add_endereco` e pertence unicamente a este objeto da classe `Cliente`;\n",
    "- para adicionar um novo endereço, é preciso chamar o método `add_endereco` passando como parâmetros **as informações** do endereço;\n",
    "- para adicionar um novo automóvel, é preciso chamar o método `add_automovel` passando como parâmetro **o objeto** da classe `Carro`, que deve ter sido anteriormente instanciado **fora** do método `add_automovel`.\n",
    "\n",
    "> Neste caso, a relação entre as classes `Cliente` e `Endereço` é uma relação de **composição**, enquanto a relação entre as classes `Cliente` e `Carro` é somente uma relação de **associação** bidirecional, pois nem há uma relação de todo-parte nesse caso.\n",
    "\n",
    "Observe que, ao destruir um cliente, todos os seus endereços também são destruídos, o que não ocorre com os seus automóveis, que continuam a existir. Para testar isso vamos primeiro instanciar alguns objetos e imprimir algumas informações:"
   ]
  },
  {
   "cell_type": "code",
   "execution_count": null,
   "metadata": {},
   "outputs": [],
   "source": [
    "cliente = Cliente('Fulano', '123.456.789-0')\n",
    "cliente.add_endereco('Rua 1', 'n 42', 'Bairro 1', 'Cidade 1', '01234-567')\n",
    "cliente.add_endereco('Rua 2', 'n 01, apto 0', 'Bairro 2', 'Cidade 2', '98765-123')\n",
    "\n",
    "motorista = Pessoa('Jean', '987.654.321-0', 1000)\n",
    "\n",
    "carro4 = Carro('Uno', 'Branco', 'XYZ-1234', motorista, 80, 'gasolina')\n",
    "carro5 = Carro('Ka', 'Prata', 'XYZ-9999', motorista, 100, 'alcool')\n",
    "\n",
    "cliente.add_automovel(carro4)\n",
    "cliente.add_automovel(carro5)\n",
    "\n",
    "print('Id do Cliente:', id(cliente))\n",
    "\n",
    "def lista_enderecos(cliente):\n",
    "    print('------------')\n",
    "    print('Endereços do', cliente.nome)\n",
    "    for end in cliente.enderecos:\n",
    "        print(end.rua, end.complemento, end.bairro, end.cidade, end.cep)\n",
    "\n",
    "def lista_automoveis(cliente):\n",
    "    print('------------')\n",
    "    print('Automóveis do', cliente.nome)\n",
    "    for carro in cliente.automoveis:\n",
    "        print(carro.modelo, carro.cor, carro.placa)\n",
    "        \n",
    "lista_enderecos(cliente)\n",
    "lista_automoveis(cliente)"
   ]
  },
  {
   "cell_type": "markdown",
   "metadata": {},
   "source": [
    "## O que acontece quando destruimos o cliente?\n",
    "\n",
    "E agora vamos destruir o objeto `cliente`, mostrando todas as instâncias que temos antes e depois da sua destruição. Note o que acontece com os objetos das classes `Carro` e `Endereco`."
   ]
  },
  {
   "cell_type": "code",
   "execution_count": null,
   "metadata": {},
   "outputs": [],
   "source": [
    "print('Instâncias:')\n",
    "lista_instancias(Cliente)\n",
    "lista_instancias(Endereco)\n",
    "lista_instancias(Carro)\n",
    "\n",
    "print('------------')\n",
    "#print('Destruindo o cliente', cliente.nome)\n",
    "\n",
    "del(cliente)\n",
    "\n",
    "print('------------')\n",
    "print('Instâncias:')\n",
    "lista_instancias(Cliente)\n",
    "lista_instancias(Endereco)\n",
    "lista_instancias(Carro)"
   ]
  },
  {
   "cell_type": "markdown",
   "metadata": {},
   "source": [
    "### Objetos da classe Endereco e Carro têm comportamentos diferentes após a exclusão do cliente\n",
    "\n",
    "Note que os objetos da classe `Endereco` foram destruídos, enquanto os objetos da classe `Carro` foram mantidos.\n",
    "\n",
    "Isso mostra na prática uma importante diferença da **composição** para outros tipos de associação.\n"
   ]
  }
 ],
 "metadata": {
  "kernelspec": {
   "display_name": "Python 3 (ipykernel)",
   "language": "python",
   "name": "python3"
  },
  "language_info": {
   "codemirror_mode": {
    "name": "ipython",
    "version": 3
   },
   "file_extension": ".py",
   "mimetype": "text/x-python",
   "name": "python",
   "nbconvert_exporter": "python",
   "pygments_lexer": "ipython3",
   "version": "3.9.7"
  }
 },
 "nbformat": 4,
 "nbformat_minor": 2
}
